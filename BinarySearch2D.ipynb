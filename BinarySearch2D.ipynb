{
 "cells": [
  {
   "cell_type": "markdown",
   "metadata": {},
   "source": [
    "Jako malí jsme hrávali hru na hledání pokladu. Jeden v pokoji schoval nějaký poklad, a ostatním jej pak hledali s nápovědou: \"samá voda, samá voda, přihořívá, hoří!\".\n",
    "Vzpomněl jsem si na to, když jsem si četl zadání úkolu [Shadows of the Knight - Episode 2](https://www.codingame.com/training/expert/shadows-of-the-knight-episode-2) na CodingGame.\n",
    "\n",
    "Po prvním přečtení zadání jsem si dost naivně říkal, tak v čem je problém? Napovídají, že je dobré použít binární hledání a dělení intervalu. To vše umím, tak rovnou na to.\n",
    "\n",
    "Nakonec to zase tak jednoduché nebylo.\n",
    "\n",
    "Tak o co vlastně šlo?"
   ]
  },
  {
   "cell_type": "markdown",
   "metadata": {},
   "source": [
    "# Zadání úkolu\n",
    "Dostanu zadané dvourozměrné pole o velikosti WIDTH x HEIGHT políček. Na jednom políčku je umístěna bomba, kterou mám najít. \n",
    "\n",
    "Hra začíná tak, že se objevím na nějakém místě v tomto poli. Mohu skočit na libovolné políčko v tomto dvourozměrném poli. Po každém skoku dostanu informaci, jestli jsem blíže, dále nebo stejně daleko od bomby. Vzdálenost se v tomto případě počítá jako _Euklejdovská vzdálenost_ ve dvourozměrném prostoru.\n",
    "\n",
    "Úkolem je co nejmenším počtem skoků najít políčko s bombou."
   ]
  },
  {
   "attachments": {
    "binary_search_1.jpg": {
     "image/jpeg": "[encoded data removed]"
    }
   },
   "cell_type": "markdown",
   "metadata": {},
   "source": [
    "\n",
    "# Základní úvahy o řešení\n",
    "Jak už sami autoři hry naznačovali, je dobré použít binární hledání.\n",
    "Obvykle se tento postup prezentuje na jednoduchém setříděném poli. V tomto případě jsem ve dvou dimenzích, ale mělo by to jít použít stejně. \n",
    "\n",
    "Nejdříve budu hledat v jednom rozměru, např. v jednom řádku. Až najdu tu správnou pozici v řádku, budu hledat ve sloupci.\n",
    "\n",
    "Postup hledání v jednom rozměru je takový, že se snažím každým skokem rozdělit celý interval na dvě poloviny. Na polovinu, která je blíže bombě, no a na tu druhou, která je dále od bomby. V dalším kroku pak opět dělím ten interval blíže bomby. A to vše tak dlouho, dokud se mně interval nesmrskne na jedno políčko.\n",
    "\n",
    "## Dělení intervalu skokem\n",
    "Musel jsem si to namalovat, abych viděl, jak je třeba skákat, abych rozpůlil interval.\n",
    "\n",
    "Jsou tam totiž dvě možné situace:\n",
    "\n",
    "![binary_search_1.jpg](attachment:binary_search_1.jpg)\n",
    "\n",
    "Ta zelená fajfka představuje moji aktuální pozici. Červený křížek pak pozici, kam bych měl skočit, abych rozdělil interval na dvě poloviny.\n",
    "\n",
    "V prvém případě aktuálně stojím uvnitř intervalu, který chci rozdělit. Cílová pozice je tedy opět uvnitř intervalu symetricky vůči středu. \n",
    "\n",
    "Ve druhém případě aktuálně stojím vně intervalu. Pak má cílová pozice musí být opět vně intervalu symetricky vůči jeho středu.\n",
    "\n",
    "A to je asi ta nejzásadnější úvaha. Následuje již pouze programátorská dřina."
   ]
  },
  {
   "cell_type": "markdown",
   "metadata": {},
   "source": [
    "# Příprava testovacího prostředí\n",
    "\n",
    "Nejdříve nějaké knihovny a základní inicializace:"
   ]
  },
  {
   "cell_type": "code",
   "execution_count": 1,
   "metadata": {},
   "outputs": [],
   "source": [
    "import random\n",
    "import math"
   ]
  },
  {
   "cell_type": "markdown",
   "metadata": {},
   "source": [
    "Připravím si testovací třídu, jejimž úkolem bude poskytovat informaci o mé poloze vůči bombě:"
   ]
  },
  {
   "cell_type": "code",
   "execution_count": 2,
   "metadata": {},
   "outputs": [],
   "source": [
    "class TestSuite2D:\n",
    "\n",
    "    def __init__(self, width, height, target=None):\n",
    "        self.target = (random.randrange(width), random.randrange(height)) if target is None else target\n",
    "        self.last = None\n",
    "\n",
    "    def evaluate(self, value):\n",
    "        if self.last is not None:\n",
    "            if value == self.target:\n",
    "                result = \"FOUND\"\n",
    "            else:\n",
    "                def euclidean_distance(a, b):\n",
    "                    return ((a[0] - b[0]) ** 2 + (a[1] - b[1]) ** 2) ** 0.5\n",
    "\n",
    "                distance_last = euclidean_distance(self.target, self.last)\n",
    "                distance_value = euclidean_distance(self.target, value)\n",
    "                if distance_value > distance_last:\n",
    "                    result = 'COLDER'\n",
    "                elif distance_value < distance_last:\n",
    "                    result = 'WARMER'\n",
    "                else:\n",
    "                    result = 'SAME'\n",
    "        else:\n",
    "            result = 'UNKNOWN'\n",
    "        self.last = value\n",
    "        return result\n",
    "\n",
    "    def validate(self, value):\n",
    "        return self.target == value\n",
    "\n",
    "    def __str__(self):\n",
    "        return f\"TestSuite2D[target={self.target}, last={self.last}]\""
   ]
  },
  {
   "cell_type": "markdown",
   "metadata": {},
   "source": [
    "Při inicializaci zadávám rozměry pole a pozici bomby. Pokud pozici bomby nezadám, pak se umístí náhodně.\n",
    "\n",
    "Z instance této třídy budu volat metodu __evaluate__ se zadanou aktuální mojí pozicí. \n",
    "\n",
    "Očekávám některou z těchto odpovědí:\n",
    "* WARMER  - jsem blíže bombě\n",
    "* COLDER  - jsem dále bombě\n",
    "* SAME    - jsem ve stejné vzdálenosti od bomby\n",
    "* FOUND   - našel jsem ji\n",
    "* UNKNOWN - při prvním dotazu, protože neexistuje moje předchozí pozice\n"
   ]
  },
  {
   "cell_type": "markdown",
   "metadata": {},
   "source": [
    "# Hledání v jednom řádku\n",
    "\n",
    "Nejdříve jsem si vytvořil funkci pro hledání v jednom řádku. \n",
    "Pro testování budu používat testovací třídu pro 2D, takže bych si měl ověřit i závislost na Euklejdovské vzdálenosti.\n",
    "\n",
    "## Funkce pro hledání v jednom rozměru"
   ]
  },
  {
   "cell_type": "code",
   "execution_count": 3,
   "metadata": {},
   "outputs": [],
   "source": [
    "def binary_search_1d(width, x0, f):\n",
    "\n",
    "    lower_x, upper_x, prev_x, x = 0, width - 1, x0, x0\n",
    "\n",
    "    def next_index(low, high, max_x, curr):\n",
    "        i = high + low - curr\n",
    "        if i == curr:\n",
    "            i = i - 1 if curr > 0 else i + 1\n",
    "        return max(0, min(max_x, i))\n",
    "\n",
    "    while True:\n",
    "\n",
    "        check_distance = f((x, 0))\n",
    "\n",
    "        if check_distance == 'WARMER':\n",
    "            if x < prev_x and lower_x < upper_x:\n",
    "                upper_x = prev_x - math.ceil((abs(x - prev_x) + 1) / 2)\n",
    "            elif x > prev_x and lower_x < upper_x:\n",
    "                lower_x = prev_x + math.ceil((abs(x - prev_x) + 1) / 2)\n",
    "\n",
    "        elif check_distance == 'COLDER':\n",
    "            if x < prev_x and lower_x < upper_x:\n",
    "                lower_x = x + math.ceil((abs(x - prev_x) + 1) / 2)\n",
    "            elif x > prev_x and lower_x < upper_x:\n",
    "                upper_x = x - math.ceil((abs(x - prev_x) + 1) / 2)\n",
    "\n",
    "        elif check_distance == 'SAME':\n",
    "            return (x + prev_x) // 2\n",
    "\n",
    "        elif check_distance == 'UNKNOWN':\n",
    "            pass\n",
    "\n",
    "        elif check_distance == 'FOUND':\n",
    "            return x\n",
    "\n",
    "        else:\n",
    "            raise ValueError\n",
    "\n",
    "        prev_x, x = x, next_index(lower_x, upper_x, width - 1, x) if lower_x < upper_x else lower_x\n",
    "\n",
    "    return x\n"
   ]
  },
  {
   "cell_type": "markdown",
   "metadata": {},
   "source": [
    "# Ověření, že funguje správně\n",
    "\n",
    "Udělal jsem si několik testovacích běhů přes rozměr pole 1, lichý a sudý. V každém rozměru pak udělám všechny kombinace pro možnou pozici bomby a startovací pozici.\n",
    "Tím bych měl ověřit, že mně algoritmus funguje ve všech situacích:"
   ]
  },
  {
   "cell_type": "code",
   "execution_count": 4,
   "metadata": {},
   "outputs": [
    {
     "name": "stdout",
     "output_type": "stream",
     "text": [
      "FINISHED\n"
     ]
    }
   ],
   "source": [
    "HEIGHT, j = 9, 5\n",
    "for WIDTH in (1, 10, 11):\n",
    "    for i in range(WIDTH):\n",
    "        for x in range(WIDTH):\n",
    "            suite = TestSuite2D(WIDTH, HEIGHT, (i, j))\n",
    "            res = binary_search_1d(WIDTH, x, lambda x: suite.evaluate(x))\n",
    "            if not suite.validate((res, j)):\n",
    "                print(\"FAILED\")\n",
    "print(\"FINISHED\")"
   ]
  },
  {
   "cell_type": "markdown",
   "metadata": {},
   "source": [
    "# Hledání ve dvouorozměrném poli\n",
    "\n",
    "Tady se tedy již dostávám ke konečnému řešení.\n",
    "\n",
    "Hledám nejdříve v řádku, a pak ve sloupci:"
   ]
  },
  {
   "cell_type": "code",
   "execution_count": 5,
   "metadata": {},
   "outputs": [],
   "source": [
    "def binary_search_2d_next(width, height, point, f):\n",
    "\n",
    "    lower_x, upper_x, prev_x, x = 0, width - 1, point[0], point[0]\n",
    "    lower_y, upper_y, prev_y, y = 0, height - 1, point[1], point[1]\n",
    "\n",
    "    def next_index(low, high, max_i, curr):\n",
    "        i = high + low - curr\n",
    "        if i == curr:\n",
    "            i = i - 1 if curr > 0 else i + 1\n",
    "        elif i > max_i:\n",
    "            i = high\n",
    "        elif i < 0:\n",
    "            i = low\n",
    "        return i\n",
    "\n",
    "    while True:\n",
    "\n",
    "        check_distance = f((x, y))\n",
    "\n",
    "        if check_distance == 'WARMER':\n",
    "            if x < prev_x and lower_x < upper_x:\n",
    "                upper_x = prev_x - math.ceil((abs(x - prev_x) + 1) / 2)\n",
    "            elif x > prev_x and lower_x < upper_x:\n",
    "                lower_x = prev_x + math.ceil((abs(x - prev_x) + 1) / 2)\n",
    "            elif y < prev_y and lower_y < upper_y:\n",
    "                upper_y = prev_y - math.ceil((abs(y - prev_y) + int(x == prev_x)) / 2)\n",
    "            elif y > prev_y and lower_y < upper_y:\n",
    "                lower_y = prev_y + math.ceil((abs(y - prev_y) + int(x == prev_x)) / 2)\n",
    "\n",
    "        elif check_distance == 'COLDER':\n",
    "            if x < prev_x and lower_x < upper_x:\n",
    "                lower_x = x + math.ceil((abs(x - prev_x) + 1) / 2)\n",
    "            elif x > prev_x and lower_x < upper_x:\n",
    "                upper_x = x - math.ceil((abs(x - prev_x) + 1) / 2)\n",
    "            elif y < prev_y and lower_y < upper_y:\n",
    "                lower_y = y + math.ceil((abs(y - prev_y) + int(x == prev_x)) / 2)\n",
    "            elif y > prev_y and lower_y < upper_y:\n",
    "                upper_y = y - math.ceil((abs(y - prev_y) + int(x == prev_x)) / 2)\n",
    "\n",
    "        elif check_distance == 'SAME':\n",
    "            if x != prev_x and lower_x < upper_x:\n",
    "                lower_x, upper_x = (x + prev_x) // 2, (x + prev_x) // 2\n",
    "            if y != prev_y and lower_y < upper_y and x == prev_x:\n",
    "                lower_y, upper_y = (y + prev_y) // 2, (y + prev_y) // 2\n",
    "\n",
    "        elif check_distance == 'UNKNOWN':\n",
    "            pass\n",
    "\n",
    "        elif check_distance == 'FOUND':\n",
    "            break\n",
    "\n",
    "        else:\n",
    "            raise ValueError\n",
    "\n",
    "        prev_x, x = x, next_index(lower_x, upper_x, width - 1, x) if lower_x < upper_x else lower_x\n",
    "\n",
    "        if prev_x == x or (lower_x == upper_x and abs(prev_x - x) <= 1):\n",
    "            prev_y, y = y, next_index(lower_y, upper_y, height - 1, y) if lower_y < upper_y else lower_y\n",
    "\n",
    "    return x, y"
   ]
  },
  {
   "cell_type": "markdown",
   "metadata": {},
   "source": [
    "## Ověření, že to funguje\n",
    "\n",
    "Budu opět ověřovat pro rozměry 1, sudý a lichý. V tomto případě se to bude týkat jak šířky pole, tak jeho délky.\n",
    "\n",
    "Opět udělám testy, kdy ověřím všechny možné pozice bomby a startovací pozice:"
   ]
  },
  {
   "cell_type": "code",
   "execution_count": 6,
   "metadata": {},
   "outputs": [
    {
     "name": "stdout",
     "output_type": "stream",
     "text": [
      "FINISHED\n"
     ]
    }
   ],
   "source": [
    "for WIDTH in (1, 10, 11):\n",
    "    for HEIGHT in (1, 10, 11):\n",
    "        for i in range(WIDTH):\n",
    "            for j in range(HEIGHT):\n",
    "                for x in range(WIDTH):\n",
    "                    for y in range(HEIGHT):\n",
    "                        suite = TestSuite2D(WIDTH, HEIGHT, (i, j))\n",
    "                        res = binary_search_2d_next(WIDTH, HEIGHT, (x, y), lambda x: suite.evaluate(x))\n",
    "                        if not suite.validate(res):\n",
    "                            print(\"FAILED\")\n",
    "\n",
    "print(\"FINISHED\")"
   ]
  }
 ],
 "metadata": {
  "kernelspec": {
   "display_name": "Python 3",
   "language": "python",
   "name": "python3"
  },
  "language_info": {
   "codemirror_mode": {
    "name": "ipython",
    "version": 3
   },
   "file_extension": ".py",
   "mimetype": "text/x-python",
   "name": "python",
   "nbconvert_exporter": "python",
   "pygments_lexer": "ipython3",
   "version": "3.9.1"
  }
 },
 "nbformat": 4,
 "nbformat_minor": 4
}
