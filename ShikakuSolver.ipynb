{
 "cells": [
  {
   "cell_type": "markdown",
   "id": "10f4e6db",
   "metadata": {},
   "source": [
    "[Shikaku](https://en.wikipedia.org/wiki/Shikaku) je jedna z japonských logických her, kterou publikoval časopis Nikoli. Jako obvykle se jedná o deskovou hru, kterou je možné hrát na čtvercové nebo obdélníkové desce.\n",
    "\n",
    "Úkolem je rozdělit desku na obdélníky, které jí plně pokrývají a vzájemně se nepřekrývají. Každý obdélník je určen jednou pozicí na desce s číslem udávajícím jeho plochu ve čtvercích.\n",
    "V zadání úlohy je tedy na desce tolik čísel, kolik je požadovaných obdélníků. Součet čísel pak představuje plochu celé desky.\n",
    "\n",
    "Například zadání by mohlo vypadat následovně:\n",
    "\n",
    "\n",
    "```\n",
    " ---------------\n",
    "|   |   |   | 4 |\n",
    " ---------------\n",
    "|   | 8 |   |   |\n",
    " ---------------\n",
    "|   |   | 4 |   |\n",
    " ---------------\n",
    "|   |   |   |   |\n",
    " ---------------\n",
    "\n",
    "```\n",
    "\n",
    "Pokusil jsem se tedy napsat řešení pro takovou hru. Nejdříve pomocí backtracking a následně také Constraint Programming. Třeba příjdete na nějaké jiné řešení.\n"
   ]
  },
  {
   "cell_type": "markdown",
   "id": "f2e8262c",
   "metadata": {},
   "source": [
    "# Zdroj testovacích dat\n",
    "\n",
    "Protože budu zkoušet dva postupy, vytvořil jsem si nejdříve jeden společný zdroj testovacích dat.\n",
    "Je to jedna třída `DataSource` v samostatném modulu. Ta obsahuje několik zadání hry a metody, jak s nimi jednoduše pracovat.\n",
    "\n",
    "Jednodušší bude asi ukázka, jak s tím zdrojem testovacích vzorků pracuji:"
   ]
  },
  {
   "cell_type": "code",
   "execution_count": 1,
   "id": "79490f43",
   "metadata": {},
   "outputs": [],
   "source": [
    "import numpy as np\n",
    "from ShikakuSource import DataSource\n",
    "\n",
    "source = DataSource()"
   ]
  },
  {
   "cell_type": "markdown",
   "id": "db8a434e",
   "metadata": {},
   "source": [
    "Počet vzorků zadání hry ve zdroji:"
   ]
  },
  {
   "cell_type": "code",
   "execution_count": 2,
   "id": "0fb52731",
   "metadata": {},
   "outputs": [
    {
     "name": "stdout",
     "output_type": "stream",
     "text": [
      "8\n"
     ]
    }
   ],
   "source": [
    "print(len(source))"
   ]
  },
  {
   "cell_type": "markdown",
   "id": "8fa3b6ad",
   "metadata": {},
   "source": [
    "Rozměry hrací desky pro jedem vzorek s pořadovým číslem 1:"
   ]
  },
  {
   "cell_type": "code",
   "execution_count": 3,
   "id": "2d06a82f",
   "metadata": {},
   "outputs": [
    {
     "name": "stdout",
     "output_type": "stream",
     "text": [
      "(4, 4)\n"
     ]
    }
   ],
   "source": [
    "print(source.shape(1))"
   ]
  },
  {
   "cell_type": "markdown",
   "id": "a59bba42",
   "metadata": {},
   "source": [
    "Zadání pro jeden vzorek ve formě pole (pořadové číslo 1):"
   ]
  },
  {
   "cell_type": "code",
   "execution_count": 4,
   "id": "eef9092d",
   "metadata": {},
   "outputs": [
    {
     "name": "stdout",
     "output_type": "stream",
     "text": [
      "[[0 0 0 4]\n",
      " [0 8 0 0]\n",
      " [0 0 4 0]\n",
      " [0 0 0 0]]\n"
     ]
    }
   ],
   "source": [
    "print(source.board(1))"
   ]
  },
  {
   "cell_type": "markdown",
   "id": "cf4d009f",
   "metadata": {},
   "source": [
    "Zdrojová data vzorku s pořadovým číslem 1, jedná se o souřadnice na desce a hodnotu políčka:"
   ]
  },
  {
   "cell_type": "code",
   "execution_count": 5,
   "id": "96646db9",
   "metadata": {},
   "outputs": [
    {
     "name": "stdout",
     "output_type": "stream",
     "text": [
      "[((0, 3), 4), ((1, 1), 8), ((2, 2), 4)]\n"
     ]
    }
   ],
   "source": [
    "print(source.data(1))"
   ]
  },
  {
   "cell_type": "markdown",
   "id": "4e00a808",
   "metadata": {},
   "source": [
    "# Řešení s pomocí backtracking\n",
    "Nejdříve se pokusím na to jít tak, jak by asi každý očekával. Prostě budu zkoušet kombinace obdélníků, dokud nenajdu přijatelné řešení."
   ]
  },
  {
   "cell_type": "markdown",
   "id": "0624df6c",
   "metadata": {},
   "source": [
    "## Přípravné práce\n",
    "Bude asi dobré si připravit nějaké nástroje pro práci s obdélníky. Proto jsem si vytvořil jednu třídu `Rectangle` a nějaké pomocné funkce pro práci s nimi."
   ]
  },
  {
   "cell_type": "code",
   "execution_count": 6,
   "id": "582ef911",
   "metadata": {},
   "outputs": [],
   "source": [
    "class Rectangle:\n",
    "\n",
    "    def __init__(self, corner, shape, board_shape):\n",
    "        if not all((0 <= corner[i] < board_shape[0] and 0 < shape[i] <= board_shape[i] for i in (0, 1))):\n",
    "            raise ValueError('coordinates are invalid')\n",
    "        if not all((0 <= corner[i] + shape[i] <= board_shape[i] for i in (0, 1))):\n",
    "            raise ValueError('coordinates are invalid')\n",
    "        self.corner, self.shape, self.board_shape = corner, shape, board_shape\n",
    "\n",
    "    def __iter__(self):\n",
    "        yield self.corner\n",
    "        yield self.shape\n",
    "\n",
    "    def __eq__(self, other):\n",
    "        return isinstance(other, type(self)) and tuple(self) == tuple(other)\n",
    "\n",
    "    def __ne__(self, other):\n",
    "        return not (self == other)\n",
    "\n",
    "    def __lt__(self, other):\n",
    "        return tuple(self) < tuple(other)\n",
    "\n",
    "    def __repr__(self):\n",
    "        return type(self).__name__ + repr(tuple(self))\n",
    "\n",
    "    def inside(self, position):\n",
    "        return all((self.corner[i] <= position[i] < self.corner[i] + self.shape[i] for i in (0, 1)))\n",
    "\n",
    "    def slice(self):\n",
    "        return tuple((slice(self.corner[i], self.corner[i] + self.shape[i]) for i in (0, 1)))\n",
    "\n",
    "    def board(self):\n",
    "        b = np.zeros(self.board_shape, dtype=int)\n",
    "        b[slice()] = 1\n",
    "        return b"
   ]
  },
  {
   "cell_type": "markdown",
   "id": "c12d063b",
   "metadata": {},
   "source": [
    "Nejdříve funkce pro výpočet rozměrů obdélníků tak, aby měly požadovanou plochu.\n",
    "\n",
    "Parametrem je kromě plochy obdélníka také velikost hrací desky, neb nechci řešit obdélníky, které by se mně na desku vůbec nevešly."
   ]
  },
  {
   "cell_type": "code",
   "execution_count": 7,
   "id": "8ceb1d9c",
   "metadata": {},
   "outputs": [
    {
     "name": "stdout",
     "output_type": "stream",
     "text": [
      "[(2, 4), (4, 2)]\n"
     ]
    }
   ],
   "source": [
    "def dimensions_for_area(area, board_shape):\n",
    "    for i in range(1, area + 1):\n",
    "        if area % i == 0:\n",
    "            rows, cols = i, area // i\n",
    "            if rows <= board_shape[0] and cols <= board_shape[0]:\n",
    "                yield rows, cols\n",
    "                \n",
    "print(list(dimensions_for_area(8, (4, 4))))"
   ]
  },
  {
   "cell_type": "markdown",
   "id": "776e0872",
   "metadata": {},
   "source": [
    "Úkolem další funkce bude najít všechny přijatelné obdélníky pro konkrétní pozici na desce tak, aby obdélníky měly požadované rozměry a na desku se vešly.\n",
    "\n",
    "Parametry funkce jsou:\n",
    "* pozice na desce, vůči které se obdélníky vztahují (každý obdélník musí tuto ozici obsahovat)\n",
    "* požadované rozměry obdélníku\n",
    "* velikost hrací desky\n",
    "\n",
    "Výsledkem je generátor takových obdélníků."
   ]
  },
  {
   "cell_type": "code",
   "execution_count": 8,
   "id": "24a93c97",
   "metadata": {},
   "outputs": [
    {
     "name": "stdout",
     "output_type": "stream",
     "text": [
      "[Rectangle((2, 0), (1, 4))]\n",
      "[Rectangle((0, 2), (4, 1))]\n"
     ]
    }
   ],
   "source": [
    "def rectangles_for_position(position, shape, board_shape):\n",
    "    for i in (a for a in range(max(position[0] - (shape[0] - 1), 0), position[0] + 1) if a + shape[0] <= board_shape[0]):\n",
    "        for j in (b for b in range(max(position[1] - (shape[1] - 1), 0), position[1] + 1) if b + shape[1] <= board_shape[1]):\n",
    "            yield Rectangle((i, j), shape, board_shape)\n",
    "\n",
    "print(list(rectangles_for_position((2, 2), (1, 4), (4, 4))))\n",
    "print(list(rectangles_for_position((2, 2), (4, 1), (4, 4))))"
   ]
  },
  {
   "cell_type": "markdown",
   "id": "92684d7a",
   "metadata": {},
   "source": [
    "Spojením dvou výše uvedených funkci jsem nyní schopen napsat funkci, která mně vrátí všechny přijatelné obdélníky pro pozici s uvedením požadované plochy\n",
    "\n",
    "Parametry funkce:\n",
    "* pozice na desce, vůči které se obdélníky vztahují\n",
    "* požadovaná plocha obdélníku\n",
    "* velikost hrací desky\n",
    "\n",
    "Výsledkem je opět generátor obdélníků, které vyhovují požadavkům."
   ]
  },
  {
   "cell_type": "code",
   "execution_count": 9,
   "id": "29b5e5b9",
   "metadata": {},
   "outputs": [
    {
     "name": "stdout",
     "output_type": "stream",
     "text": [
      "[Rectangle((2, 0), (1, 4)), Rectangle((1, 1), (2, 2)), Rectangle((1, 2), (2, 2)), Rectangle((2, 1), (2, 2)), Rectangle((2, 2), (2, 2)), Rectangle((0, 2), (4, 1))]\n"
     ]
    }
   ],
   "source": [
    "def all_for_position(position, area, board_shape):\n",
    "    for shape in dimensions_for_area(area, board_shape):\n",
    "        for rect in rectangles_for_position(position, shape, board_shape):\n",
    "            yield rect\n",
    "\n",
    "print(list(all_for_position((2, 2), 4, (4, 4))))"
   ]
  },
  {
   "cell_type": "markdown",
   "id": "dd1c70c5",
   "metadata": {},
   "source": [
    "Poslední funkcí z této části bude funkce, která mně ze všech obdélníků přijatelných pro jednu pozici vybere pouze ty obdélníky, které neobsahují pozice jiných obdélníků (to je to pravidlo, že pozice s číslem může ležet pouze v jednom obdélníku).\n",
    "\n",
    "Parametry funkce:\n",
    "* pozice na desce, vůči které se obdélníky vztahují\n",
    "* požadovaná plocha obdélníku\n",
    "* zdrojová data pro jedno zadání hry\n",
    "* velikost hrací desky\n",
    "\n",
    "Výsledkem je generátor takových obdélníků."
   ]
  },
  {
   "cell_type": "code",
   "execution_count": 10,
   "id": "6ed6c1dd",
   "metadata": {},
   "outputs": [
    {
     "name": "stdout",
     "output_type": "stream",
     "text": [
      "[Rectangle((2, 0), (1, 4)), Rectangle((1, 2), (2, 2)), Rectangle((2, 1), (2, 2)), Rectangle((2, 2), (2, 2)), Rectangle((0, 2), (4, 1))]\n"
     ]
    }
   ],
   "source": [
    "def possible_for_position(position, area, data, board_shape):\n",
    "    for rect in all_for_position(position, area, board_shape):\n",
    "        if all((not rect.inside(p) for p, v in data if p != position)):\n",
    "            yield rect\n",
    "            \n",
    "print(list(possible_for_position((2, 2), 4, source.data(1), (4, 4))))            "
   ]
  },
  {
   "cell_type": "markdown",
   "id": "8354f0da",
   "metadata": {},
   "source": [
    "## Řešení\n",
    "A nyní již vlastní řešení pomocí backtrack. \n",
    "\n",
    "Pro vyhodnocení, zda se mně obdélníky překrývají, budu používat numpy pole.\n",
    "\n",
    "Budu postupně procházet všechna zadání. Pro každé zadání pak:\n",
    "1. nejdříve vytisknu zadání\n",
    "1. vytvořím si prázdnou desku\n",
    "1. pro každou pozici zadání vytvořím seznam všech přijatelných obdélniků\n",
    "1. spustím funkci `solve()`, která:\n",
    "- postupně prochází všechny přijatelné obdélníky pro pozici\n",
    "- obdélník promitne na desku\n",
    "- pokud na desce není konflik, pokračuje rekurzivně na další pozici\n",
    "5. v případě, že jsem nějaké řešení našel, tak jej vytisknu\n",
    "\n",
    "Výsledek uvidíte po spuštění:"
   ]
  },
  {
   "cell_type": "code",
   "execution_count": 11,
   "id": "0841b88f",
   "metadata": {},
   "outputs": [
    {
     "name": "stdout",
     "output_type": "stream",
     "text": [
      "[[0 2]\n",
      " [2 0]]\n",
      "........................................\n",
      "[['A' 'A']\n",
      " ['B' 'B']]\n",
      "\n",
      "========================================\n",
      "\n",
      "[[0 0 0 4]\n",
      " [0 8 0 0]\n",
      " [0 0 4 0]\n",
      " [0 0 0 0]]\n",
      "........................................\n",
      "[['B' 'B' 'A' 'A']\n",
      " ['B' 'B' 'A' 'A']\n",
      " ['B' 'B' 'C' 'C']\n",
      " ['B' 'B' 'C' 'C']]\n",
      "\n",
      "========================================\n",
      "\n",
      "[[2 0 0 0 0]\n",
      " [0 0 2 0 4]\n",
      " [0 0 3 2 0]\n",
      " [0 4 0 2 0]\n",
      " [4 0 0 2 0]]\n",
      "........................................\n",
      "[['A' 'A' 'B' 'C' 'C']\n",
      " ['H' 'F' 'B' 'C' 'C']\n",
      " ['H' 'F' 'D' 'E' 'E']\n",
      " ['H' 'F' 'D' 'G' 'G']\n",
      " ['H' 'F' 'D' 'I' 'I']]\n",
      "\n",
      "========================================\n",
      "\n",
      "[[0 0 2 0 0]\n",
      " [5 2 0 0 0]\n",
      " [0 3 2 0 0]\n",
      " [0 0 0 3 4]\n",
      " [0 0 2 0 2]]\n",
      "........................................\n",
      "[['B' 'C' 'A' 'A' 'G']\n",
      " ['B' 'C' 'E' 'F' 'G']\n",
      " ['B' 'D' 'E' 'F' 'G']\n",
      " ['B' 'D' 'H' 'F' 'G']\n",
      " ['B' 'D' 'H' 'I' 'I']]\n",
      "\n",
      "========================================\n",
      "\n",
      "[[0 0 0 0 0 0 6]\n",
      " [2 0 0 3 0 0 0]\n",
      " [0 3 0 0 0 6 0]\n",
      " [0 0 0 0 0 3 0]\n",
      " [3 6 0 0 0 3 0]\n",
      " [0 5 0 0 0 2 0]\n",
      " [2 0 0 0 3 2 0]]\n",
      "........................................\n",
      "[['B' 'A' 'A' 'A' 'A' 'A' 'A']\n",
      " ['B' 'C' 'C' 'C' 'E' 'E' 'E']\n",
      " ['G' 'D' 'D' 'D' 'E' 'E' 'E']\n",
      " ['G' 'H' 'H' 'H' 'F' 'F' 'F']\n",
      " ['G' 'H' 'H' 'H' 'I' 'I' 'I']\n",
      " ['J' 'J' 'J' 'J' 'J' 'K' 'K']\n",
      " ['L' 'L' 'M' 'M' 'M' 'N' 'N']]\n",
      "\n",
      "========================================\n",
      "\n",
      "[[0 0 3 0 2 0 0]\n",
      " [0 0 5 0 0 0 0]\n",
      " [0 3 0 0 0 0 0]\n",
      " [0 2 0 4 4 0 4]\n",
      " [0 0 2 0 0 0 2]\n",
      " [2 2 2 0 0 6 0]\n",
      " [0 2 0 0 2 2 0]]\n",
      "........................................\n",
      "[['A' 'A' 'A' 'B' 'B' 'N' 'H']\n",
      " ['C' 'C' 'C' 'C' 'C' 'N' 'H']\n",
      " ['D' 'D' 'D' 'F' 'G' 'N' 'H']\n",
      " ['E' 'E' 'I' 'F' 'G' 'N' 'H']\n",
      " ['K' 'L' 'I' 'F' 'G' 'N' 'J']\n",
      " ['K' 'L' 'M' 'F' 'G' 'N' 'J']\n",
      " ['O' 'O' 'M' 'P' 'P' 'Q' 'Q']]\n",
      "\n",
      "========================================\n",
      "\n",
      "[[ 0  0  0  4  0  0  2  0  0  0]\n",
      " [ 3  0  0  2  0  0  6  0  4  0]\n",
      " [ 0  4  0  0  0  0  0  0  4  8]\n",
      " [ 0  0  4  0 15  0  0  0  0  0]\n",
      " [ 2  0  0  0  0  0  0  2  0  0]\n",
      " [ 0  0  0  0  0  0  0  0  0  0]\n",
      " [ 4  0 12  0  0  0  0  0  0  0]\n",
      " [ 0  0  0  0  0  0  0  0  3  0]\n",
      " [ 0  2  0  0  5  0  0  4  2  0]\n",
      " [ 0  0  2  0  0  0  6  0  0  0]]\n",
      "........................................\n",
      "[['C' 'A' 'A' 'A' 'A' 'B' 'B' 'F' 'F' 'I']\n",
      " ['C' 'G' 'G' 'D' 'E' 'E' 'E' 'F' 'F' 'I']\n",
      " ['C' 'G' 'G' 'D' 'E' 'E' 'E' 'H' 'H' 'I']\n",
      " ['J' 'J' 'J' 'J' 'K' 'K' 'K' 'H' 'H' 'I']\n",
      " ['L' 'O' 'O' 'O' 'K' 'K' 'K' 'M' 'M' 'I']\n",
      " ['L' 'O' 'O' 'O' 'K' 'K' 'K' 'S' 'P' 'I']\n",
      " ['N' 'O' 'O' 'O' 'K' 'K' 'K' 'S' 'P' 'I']\n",
      " ['N' 'O' 'O' 'O' 'K' 'K' 'K' 'S' 'P' 'I']\n",
      " ['N' 'Q' 'R' 'R' 'R' 'R' 'R' 'S' 'T' 'T']\n",
      " ['N' 'Q' 'U' 'U' 'V' 'V' 'V' 'V' 'V' 'V']]\n",
      "\n",
      "========================================\n",
      "\n",
      "[[ 0  0  4  0  0  0  2  6  0  0]\n",
      " [ 0  0  0  0  0  5  0  0  0  0]\n",
      " [ 0  0  2  0  3  0  3  0  0  0]\n",
      " [ 0  0  0  0  0  0  0  2  4  0]\n",
      " [ 9  0  0  0  0  0  0  0  0  0]\n",
      " [ 0  0  0 12  0  0  0  0  9  0]\n",
      " [ 0  4  0  0  0  0  0  0  0  3]\n",
      " [ 0  0  0 12  0  0  0  0  0  0]\n",
      " [ 0  2  0  0  0  0  4  0  4  0]\n",
      " [ 0  0  0  7  0  0  0  0  3  0]]\n",
      "........................................\n",
      "[['J' 'A' 'A' 'A' 'A' 'B' 'B' 'C' 'C' 'C']\n",
      " ['J' 'D' 'D' 'D' 'D' 'D' 'G' 'C' 'C' 'C']\n",
      " ['J' 'E' 'E' 'F' 'F' 'F' 'G' 'H' 'I' 'I']\n",
      " ['J' 'M' 'K' 'K' 'K' 'K' 'G' 'H' 'I' 'I']\n",
      " ['J' 'M' 'K' 'K' 'K' 'K' 'L' 'L' 'L' 'N']\n",
      " ['J' 'M' 'K' 'K' 'K' 'K' 'L' 'L' 'L' 'N']\n",
      " ['J' 'M' 'O' 'O' 'O' 'O' 'L' 'L' 'L' 'N']\n",
      " ['J' 'P' 'O' 'O' 'O' 'O' 'Q' 'Q' 'R' 'R']\n",
      " ['J' 'P' 'O' 'O' 'O' 'O' 'Q' 'Q' 'R' 'R']\n",
      " ['S' 'S' 'S' 'S' 'S' 'S' 'S' 'T' 'T' 'T']]\n",
      "\n",
      "========================================\n",
      "\n"
     ]
    }
   ],
   "source": [
    "for sample in range(len(source)):\n",
    "    print(source.board(sample))\n",
    "    print('.' * 40)\n",
    "\n",
    "    board = np.zeros(source.shape(sample), dtype=int)\n",
    "\n",
    "    possible_rectangles = []\n",
    "    for pos, val in source.data(sample):\n",
    "        possible_rectangles.append(list(possible_for_position(pos, val, source.data(sample), source.shape(sample))))\n",
    "\n",
    "    def solve(index=0):\n",
    "        if index >= len(possible_rectangles):\n",
    "            return True, []\n",
    "        for rec in possible_rectangles[index]:\n",
    "            board[rec.slice()] += 1\n",
    "            if (board <= 1).all():\n",
    "                ok, result = solve(index + 1)\n",
    "                if ok:\n",
    "                    result.insert(0, rec)\n",
    "                    return True, result\n",
    "            board[rec.slice()] -= 1\n",
    "        else:\n",
    "            return False, None\n",
    "\n",
    "    ok, result = solve()\n",
    "    if ok:\n",
    "        b = np.zeros(source.shape(sample), dtype=int)\n",
    "        for val, rec in enumerate(result):\n",
    "            b[rec.slice()] += 1\n",
    "        if (b == 1).all():\n",
    "            b = np.zeros(source.shape(sample), dtype=object)\n",
    "            for val, rec in enumerate(result):\n",
    "                b[rec.slice()] = chr(ord('A') + val)\n",
    "            print(b)\n",
    "        else:\n",
    "            print(\"SOLUTION IS NOT VALID\")\n",
    "\n",
    "        print()\n",
    "        print('=' * 40)\n",
    "        print()"
   ]
  },
  {
   "cell_type": "markdown",
   "id": "670d60fa",
   "metadata": {},
   "source": [
    "# Řešení s využitím OR-Tools\n",
    "\n",
    "Jako základ celého řešení je vytvoření modelu hry s využitím připravených nástrojů z knihovny OR-Tools. "
   ]
  },
  {
   "cell_type": "code",
   "execution_count": 12,
   "id": "3c109107",
   "metadata": {},
   "outputs": [],
   "source": [
    "from ortools.sat.python import cp_model"
   ]
  },
  {
   "cell_type": "markdown",
   "id": "9d020049",
   "metadata": {},
   "source": [
    "Tímto modelem je třída, která je potomkem třídy `CpSolverSolutionCallback`. \n",
    "\n",
    "Vlastní nastavení modelu se děje v metodě `__init__`. "
   ]
  },
  {
   "cell_type": "code",
   "execution_count": 13,
   "id": "a265c5b7",
   "metadata": {},
   "outputs": [],
   "source": [
    "class GameBoard(cp_model.CpSolverSolutionCallback):\n",
    "\n",
    "    def __init__(self, data, board_shape):\n",
    "        cp_model.CpSolverSolutionCallback.__init__(self)\n",
    "        self.model = cp_model.CpModel()\n",
    "\n",
    "        self.shape = board_shape\n",
    "        self.rectangles = []\n",
    "        intervals_x, intervals_y = [], []\n",
    "\n",
    "        for i, ((x, y), val) in enumerate(data):\n",
    "            x1, y1 = self.model.NewIntVar(0, x, f\"X1:{i}\"), self.model.NewIntVar(0, y, f\"Y1:{i}\")\n",
    "            x2, y2 = self.model.NewIntVar(x, board_shape[0] - 1, f\"X2:{i}\"), self.model.NewIntVar(y, board_shape[1] - 1, f\"Y2:{i}\")\n",
    "            self.rectangles.append((x1, y1, x2, y2))\n",
    "\n",
    "            size_x = self.model.NewIntVar(1, board_shape[0], f\"dimX:{i}\")\n",
    "            size_y = self.model.NewIntVar(1, board_shape[1], f\"dimY:{i}\")\n",
    "\n",
    "            self.model.Add(x1 + size_x <= board_shape[0])\n",
    "            self.model.Add(y1 + size_y <= board_shape[1])\n",
    "\n",
    "            self.model.Add(x1 + size_x > x)\n",
    "            self.model.Add(y1 + size_y > y)\n",
    "\n",
    "            self.model.AddMultiplicationEquality(val, [size_x, size_y])\n",
    "\n",
    "            intervals_x.append(self.model.NewIntervalVar(x1, size_x, x2 + 1, f\"IX:{i}\"))\n",
    "            intervals_y.append(self.model.NewIntervalVar(y1, size_y, y2 + 1, f\"IY:{i}\"))\n",
    "\n",
    "        self.model.AddNoOverlap2D(intervals_x, intervals_y)\n",
    "\n",
    "    def OnSolutionCallback(self):\n",
    "        a = np.zeros(self.shape, dtype=object)\n",
    "        for i, (x1, y1, x2, y2) in enumerate(self.rectangles):\n",
    "            x1, y1, x2, y2 = self.Value(x1), self.Value(y1), self.Value(x2), self.Value(y2)\n",
    "            a[x1:x2+1, y1:y2+1] = chr(ord('A') + i)\n",
    "        print(a)\n",
    "        self.StopSearch()\n",
    "\n",
    "    def solve(self):\n",
    "        cp_model.CpSolver().SearchForAllSolutions(self.model, self)"
   ]
  },
  {
   "cell_type": "markdown",
   "id": "4f4606cd",
   "metadata": {},
   "source": [
    "## Nastavení modelu\n",
    "Parametry pro nastavení modelu jsou zdrojová data zadání hry a velikost hrací desky.\n",
    "\n",
    "Při nastavení proměnných modelu a omezení budu postupně procházet zadání pro všechny obdélníky.\n",
    "\n",
    "### Proměnné pro obdélníky\n",
    "V mém modelu bude každý obdélník představován levým-horním a pravým-dolním rohem (proměnné x1, y1, x2 a y2).\n",
    "Současně je u každé proměnné omezení hodnot tak, aby bylo zajištěno, že (x1, y1) <= (x, y) a (x2, y2) >= (x, y).\n",
    "\n",
    "Dále mám vytvořené proměnné představující velikost strany obdélníku, size_x a size_y. Pro ně je nastaveno omezení, že nesmí přesáhnout velikost hrací desky.\n",
    "\n",
    "### Omezení pro obdélníky\n",
    "Do modelu jsem doplnil omezení pro levý-horní roh a velikost strany obdélníku. Jejich součet nesmí přesáhnout hranice hrací desky.\n",
    "\n",
    "A také je zde omezení, že součet levého-horního rohu a velikosti obdélníku musí zajistit zahrnutí referenční pozice obdélníku v zadání. \n",
    "\n",
    "Posledním omezením, které se vztahuje k jednomu obdélníku, je požadavek na velikost jeho plochy jako součin velikosti jeho stran.\n",
    "\n",
    "### Intervaly obdélníků v osách\n",
    "Abych mohl zajistit to, že se mně obdélníky nebudou překrývat, potřebuji vytvořit ještě jednu sadu proměnných. \n",
    "Jsou to tzv. intervaly a představují vztah mezi souřadnicemi obdélníku a velikostí jeho stran.\n",
    "\n",
    "Všechny intervaly si přidám do dvou polí, protože v této podobě je budu potřebovat pro poslední omezení.\n",
    "\n",
    "### Omezení na překryv obdélníků\n",
    "Poslední, co potřebuji zajistit je omezení, aby se mně dva obdélníky nepřekrývaly.\n",
    "\n",
    "Toho můžu docílit pomocí metody `AddNoOverlap2D`, která jako parametry potřebuje právě pole intervalů v osách x a y."
   ]
  },
  {
   "cell_type": "markdown",
   "id": "0aaddc55",
   "metadata": {},
   "source": [
    "## Výkonné metody \n",
    "\n",
    "Ve třídě `GameBoard` mám definovány ještě dvě metody:\n",
    "\n",
    "Metoda **OnSolutionCallback** se zavolá, když solver najde nějaké řešení. V mém případě si vyzvednu rohy všech obdélníků, promítnu je do numpy pole a vytisknu.\n",
    "\n",
    "Následně pak ještě vyvolám zastavení činnosti solveru. To proto, že mne bude zajímat pouze první nalezené řešení. \n",
    "\n",
    "Metoda **solve** zajistí vyvolání vlastního solveru nad modelem. To je tedy ta výkonná část celého řešení.\n",
    "\n",
    "A to je co se týká vytvoření modelu a jeho řešení vše potřebné. Následuje již pouze vyzkoušení, jak to celé funguje."
   ]
  },
  {
   "cell_type": "markdown",
   "id": "2235cf23",
   "metadata": {},
   "source": [
    "## Vyzkoušení řešení hry\n",
    "\n",
    "Projdu všechna zadání hry a spustím na ně řešení. No a pak se uvidí."
   ]
  },
  {
   "cell_type": "code",
   "execution_count": 14,
   "id": "dce25b9f",
   "metadata": {},
   "outputs": [
    {
     "name": "stdout",
     "output_type": "stream",
     "text": [
      "[[0 2]\n",
      " [2 0]]\n",
      "........................................\n",
      "[['B' 'A']\n",
      " ['B' 'A']]\n",
      "\n",
      "========================================\n",
      "\n",
      "[[0 0 0 4]\n",
      " [0 8 0 0]\n",
      " [0 0 4 0]\n",
      " [0 0 0 0]]\n",
      "........................................\n",
      "[['B' 'B' 'C' 'A']\n",
      " ['B' 'B' 'C' 'A']\n",
      " ['B' 'B' 'C' 'A']\n",
      " ['B' 'B' 'C' 'A']]\n",
      "\n",
      "========================================\n",
      "\n",
      "[[2 0 0 0 0]\n",
      " [0 0 2 0 4]\n",
      " [0 0 3 2 0]\n",
      " [0 4 0 2 0]\n",
      " [4 0 0 2 0]]\n",
      "........................................\n",
      "[['A' 'A' 'B' 'C' 'C']\n",
      " ['H' 'F' 'B' 'C' 'C']\n",
      " ['H' 'F' 'D' 'E' 'E']\n",
      " ['H' 'F' 'D' 'G' 'G']\n",
      " ['H' 'F' 'D' 'I' 'I']]\n",
      "\n",
      "========================================\n",
      "\n",
      "[[0 0 2 0 0]\n",
      " [5 2 0 0 0]\n",
      " [0 3 2 0 0]\n",
      " [0 0 0 3 4]\n",
      " [0 0 2 0 2]]\n",
      "........................................\n",
      "[['B' 'C' 'A' 'A' 'G']\n",
      " ['B' 'C' 'E' 'F' 'G']\n",
      " ['B' 'D' 'E' 'F' 'G']\n",
      " ['B' 'D' 'H' 'F' 'G']\n",
      " ['B' 'D' 'H' 'I' 'I']]\n",
      "\n",
      "========================================\n",
      "\n",
      "[[0 0 0 0 0 0 6]\n",
      " [2 0 0 3 0 0 0]\n",
      " [0 3 0 0 0 6 0]\n",
      " [0 0 0 0 0 3 0]\n",
      " [3 6 0 0 0 3 0]\n",
      " [0 5 0 0 0 2 0]\n",
      " [2 0 0 0 3 2 0]]\n",
      "........................................\n",
      "[['B' 'A' 'A' 'A' 'A' 'A' 'A']\n",
      " ['B' 'C' 'C' 'C' 'E' 'E' 'E']\n",
      " ['G' 'D' 'D' 'D' 'E' 'E' 'E']\n",
      " ['G' 'H' 'H' 'H' 'F' 'F' 'F']\n",
      " ['G' 'H' 'H' 'H' 'I' 'I' 'I']\n",
      " ['J' 'J' 'J' 'J' 'J' 'K' 'K']\n",
      " ['L' 'L' 'M' 'M' 'M' 'N' 'N']]\n",
      "\n",
      "========================================\n",
      "\n",
      "[[0 0 3 0 2 0 0]\n",
      " [0 0 5 0 0 0 0]\n",
      " [0 3 0 0 0 0 0]\n",
      " [0 2 0 4 4 0 4]\n",
      " [0 0 2 0 0 0 2]\n",
      " [2 2 2 0 0 6 0]\n",
      " [0 2 0 0 2 2 0]]\n",
      "........................................\n",
      "[['A' 'A' 'A' 'B' 'B' 'N' 'H']\n",
      " ['C' 'C' 'C' 'C' 'C' 'N' 'H']\n",
      " ['D' 'D' 'D' 'F' 'G' 'N' 'H']\n",
      " ['E' 'E' 'I' 'F' 'G' 'N' 'H']\n",
      " ['K' 'L' 'I' 'F' 'G' 'N' 'J']\n",
      " ['K' 'L' 'M' 'F' 'G' 'N' 'J']\n",
      " ['O' 'O' 'M' 'P' 'P' 'Q' 'Q']]\n",
      "\n",
      "========================================\n",
      "\n",
      "[[ 0  0  0  4  0  0  2  0  0  0]\n",
      " [ 3  0  0  2  0  0  6  0  4  0]\n",
      " [ 0  4  0  0  0  0  0  0  4  8]\n",
      " [ 0  0  4  0 15  0  0  0  0  0]\n",
      " [ 2  0  0  0  0  0  0  2  0  0]\n",
      " [ 0  0  0  0  0  0  0  0  0  0]\n",
      " [ 4  0 12  0  0  0  0  0  0  0]\n",
      " [ 0  0  0  0  0  0  0  0  3  0]\n",
      " [ 0  2  0  0  5  0  0  4  2  0]\n",
      " [ 0  0  2  0  0  0  6  0  0  0]]\n",
      "........................................\n",
      "[['C' 'A' 'A' 'A' 'A' 'B' 'B' 'F' 'F' 'I']\n",
      " ['C' 'G' 'G' 'D' 'E' 'E' 'E' 'F' 'F' 'I']\n",
      " ['C' 'G' 'G' 'D' 'E' 'E' 'E' 'H' 'H' 'I']\n",
      " ['J' 'J' 'J' 'J' 'K' 'K' 'K' 'H' 'H' 'I']\n",
      " ['L' 'O' 'O' 'O' 'K' 'K' 'K' 'M' 'M' 'I']\n",
      " ['L' 'O' 'O' 'O' 'K' 'K' 'K' 'S' 'P' 'I']\n",
      " ['N' 'O' 'O' 'O' 'K' 'K' 'K' 'S' 'P' 'I']\n",
      " ['N' 'O' 'O' 'O' 'K' 'K' 'K' 'S' 'P' 'I']\n",
      " ['N' 'Q' 'R' 'R' 'R' 'R' 'R' 'S' 'T' 'T']\n",
      " ['N' 'Q' 'U' 'U' 'V' 'V' 'V' 'V' 'V' 'V']]\n",
      "\n",
      "========================================\n",
      "\n",
      "[[ 0  0  4  0  0  0  2  6  0  0]\n",
      " [ 0  0  0  0  0  5  0  0  0  0]\n",
      " [ 0  0  2  0  3  0  3  0  0  0]\n",
      " [ 0  0  0  0  0  0  0  2  4  0]\n",
      " [ 9  0  0  0  0  0  0  0  0  0]\n",
      " [ 0  0  0 12  0  0  0  0  9  0]\n",
      " [ 0  4  0  0  0  0  0  0  0  3]\n",
      " [ 0  0  0 12  0  0  0  0  0  0]\n",
      " [ 0  2  0  0  0  0  4  0  4  0]\n",
      " [ 0  0  0  7  0  0  0  0  3  0]]\n",
      "........................................\n",
      "[['J' 'A' 'A' 'A' 'A' 'B' 'B' 'C' 'C' 'C']\n",
      " ['J' 'D' 'D' 'D' 'D' 'D' 'G' 'C' 'C' 'C']\n",
      " ['J' 'E' 'E' 'F' 'F' 'F' 'G' 'H' 'I' 'I']\n",
      " ['J' 'M' 'K' 'K' 'K' 'K' 'G' 'H' 'I' 'I']\n",
      " ['J' 'M' 'K' 'K' 'K' 'K' 'L' 'L' 'L' 'N']\n",
      " ['J' 'M' 'K' 'K' 'K' 'K' 'L' 'L' 'L' 'N']\n",
      " ['J' 'M' 'O' 'O' 'O' 'O' 'L' 'L' 'L' 'N']\n",
      " ['J' 'P' 'O' 'O' 'O' 'O' 'Q' 'Q' 'R' 'R']\n",
      " ['J' 'P' 'O' 'O' 'O' 'O' 'Q' 'Q' 'R' 'R']\n",
      " ['S' 'S' 'S' 'S' 'S' 'S' 'S' 'T' 'T' 'T']]\n",
      "\n",
      "========================================\n",
      "\n"
     ]
    }
   ],
   "source": [
    "for sample in range(len(source)):\n",
    "    print(source.board(sample))\n",
    "    print('.' * 40)\n",
    "\n",
    "    board = GameBoard(source.data(sample), source.shape(sample))\n",
    "    board.solve()\n",
    "\n",
    "    print()\n",
    "    print('=' * 40)\n",
    "    print()"
   ]
  },
  {
   "cell_type": "markdown",
   "id": "225e68f9",
   "metadata": {},
   "source": [
    "A to je vše."
   ]
  }
 ],
 "metadata": {
  "kernelspec": {
   "display_name": "Python 3 (ipykernel)",
   "language": "python",
   "name": "python3"
  },
  "language_info": {
   "codemirror_mode": {
    "name": "ipython",
    "version": 3
   },
   "file_extension": ".py",
   "mimetype": "text/x-python",
   "name": "python",
   "nbconvert_exporter": "python",
   "pygments_lexer": "ipython3",
   "version": "3.10.1"
  }
 },
 "nbformat": 4,
 "nbformat_minor": 5
}
