{
 "cells": [
  {
   "cell_type": "markdown",
   "metadata": {},
   "source": [
    "Opět se vracím k řešení nějaké hry, a sice Sudoku. Nejdříve zkusím řešení s využitím síly Depth-first search (DFS).\n",
    "\n",
    "V případě Sudoku se jedná o hru s čísly ve dvourozměrné matici __9x9__ kostek s čísly v rozsahnu __<1..9>__.\n",
    "\n",
    "\n",
    "# Jak budu reprezentovat aktuální stav hry\n",
    "\n",
    "Mohl bych pracovat přímo s dvourozměrnou matící, třeba s využitím _numpy_, nicméně v prvním kole si zkusím vystačit s normálními řetězci.\n",
    "\n",
    "Matici budu reprezentovat jako jeden řetězec poskládaný z jednotlivých řádků za sebou. V případě, kdy je číslo na dané pozici neznámé, budu jej reprezentovat nulou.\n",
    "\n",
    "Takhle nějak by mohl vypadav vzorek Sudoku před začátkem řešení:\n",
    "\n",
    "```003870500000002180049651030006000053050000072072305010200068000000020000030510000```\n"
   ]
  },
  {
   "cell_type": "markdown",
   "metadata": {},
   "source": [
    "# Jak budu řešení testovat\n",
    "Asi trochu předbíhám, ale je to podstatná otázka vždy, když začínám něco psát. Jak si to své dílko vlastně vyzkouším?\n",
    "\n",
    "Tohle jsem tedy používal:\n",
    "* mám čtyři vyřešené Sudoku jako výchozí bod\n",
    "* pro každý běh testování si vyberu obtížnost, což je počet neznámých políček v sudoku (rozmezí od 1 do 80)\n",
    "* v každém vzorku sudoku náhodně vybírám pozici a nahrazuji jí 0, dokud není celkový počet nul roven obtížnosti\n",
    "* nakonec na všechny vzorky pošlu algoritmus řešení sudoku a měřím, jak dlouho trvá vyřešení\n",
    "* výsledkem je pak průměr doby řešení pro každou obtížnost\n",
    "\n",
    "Vlastní testovací nástroj je vidět tady:"
   ]
  },
  {
   "cell_type": "code",
   "execution_count": 1,
   "metadata": {},
   "outputs": [],
   "source": [
    "import random\n",
    "import matplotlib.pyplot as plt\n",
    "%matplotlib inline\n",
    "\n",
    "samples = [\n",
    "    \"123874569567932184849651237916247853358196472472385916291768345685423791734519628\",\n",
    "    \"531769248427831956869425173182546397645397821973182465354278619798614532216953784\",\n",
    "    \"816294357543718269792635148438576912175942836629381475964127583287453691351869724\",\n",
    "    \"812753649943682175675491283154237896369845721287169534521974368438526917796318452\",\n",
    "]\n",
    "\n",
    "def test_algorithm(f, X):\n",
    "    \n",
    "    def prepare_sample(s, difficulty):\n",
    "        while s.count('0') < difficulty:\n",
    "            i = random.randrange(len(s))\n",
    "            s = s[:i] + '0' + s[i+1:]\n",
    "        return s\n",
    "\n",
    "    results = []\n",
    "    for difficulty in X:\n",
    "        random.seed(0)\n",
    "        spent_time = 0\n",
    "        for s in samples:\n",
    "            sample = prepare_sample(s, difficulty)\n",
    "            res = f(sample)\n",
    "            if not res:\n",
    "                print(f\"FAILED: {difficulty=} {sample=}\")\n",
    "                return\n",
    "            spent_time += res[1]\n",
    "        results.append(spent_time / len(samples))\n",
    "    return results\n",
    "\n",
    "def timed(func):\n",
    "    \"\"\"\n",
    "    Function execution time measurement annotation.\n",
    "    \n",
    "    :param func:   pursued function\n",
    "    :return:       2-elements tuple (<function result>, <execution time in milliseconds>)\n",
    "    \"\"\"\n",
    "    def func_wrapper(*args, **kwargs):\n",
    "        import time\n",
    "        start_time = time.time_ns()\n",
    "        result = func(*args, **kwargs)\n",
    "        end_time = time.time_ns()\n",
    "        return result, (end_time - start_time) / 10**6\n",
    "    return func_wrapper"
   ]
  },
  {
   "cell_type": "markdown",
   "metadata": {},
   "source": [
    "# První řešení s využitím DFS\n",
    "Postup je v podstatě jednoduchý:\n",
    "1. Najdu si první pozici s neznámou hodnotou (ve vzorku hodnota 0)\n",
    "2. Pro danou pozici si zjistím množinu všech možných čísel, která tam mohou být\n",
    "    * jako základ je množina čísel 1..9\n",
    "    * od ní odečtu množinu čísel ve stejném řádku\n",
    "    * od toho odečtu množinu čísel ve stejném sloupci\n",
    "    * od toho odečtu množitu čísel ve stejném čtverci\n",
    "3. Pro každé číslo z možných pro danou pozici:\n",
    "    * doplním číslo na danou pozici\n",
    "    * zkusím, zda existuje řešení s takto doplněnou pozicí (volám rekurzivně)\n",
    "4. Vše končí, pokud již nemám volnou pozici. \n",
    "5. Vysledkem je pak řešení, které vyhovuje pravidlům pro Sudoku nebo None v případě, že řešení není.\n",
    "\n",
    "Takhle vypadá funkce pro tohle řešení:\n"
   ]
  },
  {
   "cell_type": "code",
   "execution_count": 2,
   "metadata": {},
   "outputs": [],
   "source": [
    "@timed\n",
    "def solution_1(sample):\n",
    "\n",
    "    def rowFor(sample, i):\n",
    "        i = i // 9 * 9\n",
    "        return sample[i:i+9]\n",
    "\n",
    "    def columnFor(sample, i):\n",
    "        return sample[i%9:len(sample):9]\n",
    "\n",
    "    def squareFor(sample, i):\n",
    "        x0 = (i % 9) // 3 * 3\n",
    "        y0 = (i // 9) // 3 * 3\n",
    "        return ''.join([sample[(y0 + j) * 9 + x0:(y0 + j) * 9 + x0 + 3] for j in range(3)])\n",
    "\n",
    "    allSet = set((chr(i) for i in range(ord('1'), ord('9')+1)))\n",
    "\n",
    "    def solve(sample):\n",
    "            nextIndex = sample.find('0')\n",
    "            if nextIndex >= 0:\n",
    "                possible = allSet - set(rowFor(sample, nextIndex)) - set(columnFor(sample, nextIndex)) - set(squareFor(sample, nextIndex))\n",
    "                for v in possible:\n",
    "                    newSample = sample[:nextIndex] + v + sample[nextIndex + 1:]\n",
    "                    res = solve(newSample)\n",
    "                    if res:\n",
    "                        return res\n",
    "                else:\n",
    "                    return None\n",
    "            else:\n",
    "                return sample\n",
    "\n",
    "    return ''.join(solve(sample))\n"
   ]
  },
  {
   "cell_type": "markdown",
   "metadata": {},
   "source": [
    "## Výsledky testování prvního řešení\n",
    "A takto jsem to první řešení testoval:"
   ]
  },
  {
   "cell_type": "code",
   "execution_count": 3,
   "metadata": {},
   "outputs": [
    {
     "data": {
      "image/png": "[encoded data removed]",
      "text/plain": [
       "<Figure size 432x288 with 1 Axes>"
      ]
     },
     "metadata": {
      "needs_background": "light"
     },
     "output_type": "display_data"
    }
   ],
   "source": [
    "X = list(range(10, 81, 10))\n",
    "res = test_algorithm(solution_1, X)\n",
    "\n",
    "plt.bar(X, res, label=\"average execution time [ms]\")\n",
    "plt.legend(bbox_to_anchor=(1.04,1), loc=\"upper left\")\n",
    "plt.show()"
   ]
  },
  {
   "cell_type": "markdown",
   "metadata": {},
   "source": [
    "Z grafu je zřejmé, že nejobtížnější nalezení vyhovujícího řešení je kolem obtížnosti někde mezi 60 a 70 (neznámých hodnot). \n",
    "\n",
    "Nejdříve mne to překvapilo, protože bych čekal, že nejobtížnější to bude pro skoro prázdné Sudoku. Nicméně to dává smysl. U hodně prázdných Sudoku je těch možných řešení hodně, proto rychleji dojdu na nějaké vyhovující.\n",
    "\n",
    "__Při opakovaném experimentování jsem ale narazil na problémy, že některá zadání trvala extrémně dlouho. Nevím, v čem je problém, třeba se tím ještě někdy budu bavit__."
   ]
  },
  {
   "cell_type": "markdown",
   "metadata": {},
   "source": [
    "# Druhé řešení s DFS\n",
    "Zkusil jsem ještě to první řešení trochu vylepšit. Kde by to mohlo jít?\n",
    "\n",
    "Pokud se podívám na první řešení, tak najdu první neznámou pozici, zkusím na ní doplnit nějakou hodnotu a pak se zanořím. V tomto případě vůbec neřeším, jestli by nebylo lepší začít nějakou jinou pozicí. Mohla by se ve vzorku najít jiná pozice, na niž je možné doplnit jenom jednu hodnotu. Pak bych neměl strom řešení tak široký.\n",
    "\n",
    "Takže v čem spočívá druhé řešení?\n",
    "\n",
    "Nejdříve projdu všechny neznáme pozice a spočítám pro ně množiny všech čísel, které na danou pozici je možné doplnit. Seznam seřadím podle velikosti těchto množin vzestupně. Nejdříve tedy příjdou na řadu pozice, které mají nejmenší množiny možných hodnot.\n",
    "\n",
    "Takhle vypadá funkce pro druhé řešení:"
   ]
  },
  {
   "cell_type": "code",
   "execution_count": 4,
   "metadata": {},
   "outputs": [],
   "source": [
    "@timed\n",
    "def solution_2(sample):\n",
    "\n",
    "    def rowFor(sample, i):\n",
    "        i = i // 9 * 9\n",
    "        return sample[i:i+9]\n",
    "\n",
    "    def columnFor(sample, i):\n",
    "        return sample[i%9:len(sample):9]\n",
    "\n",
    "    def squareFor(sample, i):\n",
    "        x0 = (i % 9) // 3 * 3\n",
    "        y0 = (i // 9) // 3 * 3\n",
    "        return ''.join([sample[(y0 + j) * 9 + x0:(y0 + j) * 9 + x0 + 3] for j in range(3)])\n",
    "\n",
    "    allSet = set((chr(i) for i in range(ord('1'), ord('9')+1)))\n",
    "\n",
    "    def potentials(sample, i):\n",
    "        return allSet - set(rowFor(sample, i)) - set(columnFor(sample, i)) - set(squareFor(sample, i))\n",
    "\n",
    "    def solve(sample, holes):\n",
    "        if holes:\n",
    "            i, pos = holes[0]\n",
    "            for v in pos:\n",
    "                newSample = sample[:i] + v + sample[i+1:]\n",
    "                res = solve(newSample, holes[1:])\n",
    "                if res:\n",
    "                    return res\n",
    "            else:\n",
    "                return None\n",
    "        else:\n",
    "            return sample\n",
    "\n",
    "    holes = sorted([(i, potentials(sample, i)) for i, v in enumerate(sample) if v == '0'], key=lambda x: len(x[1]))\n",
    "    return solve(sample, holes)"
   ]
  },
  {
   "cell_type": "markdown",
   "metadata": {},
   "source": [
    "## Výsledky testování druhého řešení\n",
    "A takto jsem to druhé řešení testoval:"
   ]
  },
  {
   "cell_type": "code",
   "execution_count": 5,
   "metadata": {},
   "outputs": [
    {
     "data": {
      "image/png": "[encoded data removed]",
      "text/plain": [
       "<Figure size 432x288 with 1 Axes>"
      ]
     },
     "metadata": {
      "needs_background": "light"
     },
     "output_type": "display_data"
    }
   ],
   "source": [
    "X = list(range(10, 81, 5))\n",
    "res = test_algorithm(solution_2, X)\n",
    "\n",
    "plt.bar(X, res, label=\"average execution time [ms]\")\n",
    "plt.legend(bbox_to_anchor=(1.04,1), loc=\"upper left\")\n",
    "plt.show()"
   ]
  },
  {
   "cell_type": "markdown",
   "metadata": {},
   "source": [
    "Dle hodnot průměrného času je vidět, že to druhé řešení je lepší než to první. \n",
    "\n",
    "Čas řešení se přesunul směrem k větší obtížnosti. To je dáno tím, že u těchto složitostí jsou na většině pozic možná skoro všechna čísla. Proto jsem si v těchto případech moc nepomohl tím seřazením.\n",
    "\n",
    "Zkusil jsem tomu ještě pomoci tím, že přepočítám množinu možných hodnot pro pozici v každé iteraci. Ale vůbec jsem tomu nepomohl, výsledky byly horší. Je to asi dáno tím, že to přepočítávání také něco stojí.\n",
    "\n",
    "A to je vše."
   ]
  }
 ],
 "metadata": {
  "kernelspec": {
   "display_name": "Python 3",
   "language": "python",
   "name": "python3"
  },
  "language_info": {
   "codemirror_mode": {
    "name": "ipython",
    "version": 3
   },
   "file_extension": ".py",
   "mimetype": "text/x-python",
   "name": "python",
   "nbconvert_exporter": "python",
   "pygments_lexer": "ipython3",
   "version": "3.9.1"
  }
 },
 "nbformat": 4,
 "nbformat_minor": 4
}
