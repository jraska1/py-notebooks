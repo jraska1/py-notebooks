{
 "cells": [
  {
   "cell_type": "code",
   "execution_count": 1,
   "id": "18535a55-77fa-473d-b43e-6b86f34fc391",
   "metadata": {},
   "outputs": [],
   "source": [
    "import random\n",
    "\n",
    "import numpy as np\n",
    "\n",
    "import matplotlib\n",
    "import matplotlib.pyplot as plt\n",
    "\n",
    "from functools import reduce"
   ]
  },
  {
   "cell_type": "code",
   "execution_count": 2,
   "id": "e6b99fc2-8b24-4e43-891b-51518d6508a8",
   "metadata": {},
   "outputs": [],
   "source": [
    "VERBOSE = 1\n",
    "\n",
    "BLACK = -1\n",
    "WHITE =  0\n",
    "\n",
    "\n",
    "def verbose(msg, *, level=1, end='\\n'):\n",
    "    if VERBOSE >= level:\n",
    "        print(msg, end=end)"
   ]
  },
  {
   "cell_type": "code",
   "execution_count": 94,
   "id": "3d7ce31a-8d7a-42c6-9697-0f231d0d8c6b",
   "metadata": {},
   "outputs": [],
   "source": [
    "class SampleSource:\n",
    "    sample_data = [\n",
    "        {\n",
    "            'shape': (5, 5),\n",
    "            'islands': {(1, 0): 1, (2, 4): 3, (3, 3): 4, (4, 0): 2}\n",
    "        },\n",
    "        {\n",
    "            'shape': (5, 5),\n",
    "            'islands': {(0, 1): 1, (1, 4): 2, (3, 0): 6, (4, 3): 2}\n",
    "        },\n",
    "\n",
    "        {\n",
    "            'shape': (7, 7),\n",
    "            'islands': {(0, 1): 6, (0, 5): 2, (2, 2): 3, (2, 4): 2, (4, 2): 3, (4, 4): 2, (6, 1): 2, (6, 5): 1}\n",
    "        },\n",
    "        {\n",
    "            'shape': (7, 7),\n",
    "            'islands': {(0, 6): 9, (2, 3): 6, (3, 4): 4, (4, 3): 3, (6, 6): 1}\n",
    "        },\n",
    "        {\n",
    "            'shape': (10, 10),\n",
    "            'islands': {(0, 2): 2, (0, 6): 2, (0, 9): 1, (1, 0): 2, (1, 7): 1, (2, 6): 2, (2, 8): 2, (7, 6): 1, (7, 8): 8, (8, 0): 5, (8, 7): 1, (9, 2): 9, (9, 6): 6, (9, 9): 1}\n",
    "        },        \n",
    "        {\n",
    "            'shape': (10, 10),\n",
    "            'islands': {(1, 7): 2, (2, 1): 5, (2, 9): 4, (3, 2): 9, (3, 8): 2, (4, 1): 2, (6, 1): 1, (7, 0): 2, (7, 2): 8, (8, 4): 3, (8, 8): 1, (9, 2): 1}\n",
    "        },        \n",
    "        {\n",
    "            'shape': (12, 12),\n",
    "            'islands': {(0, 0): 1, (0, 3): 8, (0, 5): 2, (1, 1): 5, (2, 5): 5, (2, 10): 2, (3, 11): 1, (5, 3): 2, (6, 8): 4, (8, 0): 3, (9, 1): 2, (9, 6): 5, (10, 10): 9, (11, 6): 5, (11, 8): 5, (11, 11): 1}\n",
    "        },        \n",
    "        {\n",
    "            'shape': (15, 15),\n",
    "            'islands': {(0, 0): 1, (0, 14): 1, (1, 2): 1, (1, 6): 1, (1, 8): 5, (2, 5): 3, (2, 7): 5, (2, 13): 1, (3, 3): 4, (3, 11): 1, (4, 5): 1, (5, 3): 1, (5, 10): 2, (5, 12): 3, (6, 1): 2, (6, 6): 2, (6, 8): 1, (6, 13): 1, (7, 2): 2, (7, 10): 3, (7, 12): 1, (8, 1): 1, (8, 6): 3, (8, 8): 1, (8, 13): 1, (9, 2): 4, (9, 4): 2, (9, 11): 1, (10, 9): 1, (10, 13): 2, (11, 3): 1, (11, 11): 1, (12, 1): 2, (12, 7): 4, (12, 9): 3, (13, 6): 4, (13, 8): 1, (13, 12): 2}\n",
    "        },        \n",
    "    ]\n",
    "\n",
    "    def __len__(self):\n",
    "        return len(self.sample_data)\n",
    "\n",
    "    def __getitem__(self, item):\n",
    "        board = np.zeros(self.sample_data[item]['shape'], dtype=int)\n",
    "        for coord in self.sample_data[item]['islands'].keys():\n",
    "            board[coord] = self.sample_data[item]['islands'][coord]\n",
    "        return board\n",
    "\n",
    "    def sample(self, number):\n",
    "        return self.sample_data[number]"
   ]
  },
  {
   "cell_type": "code",
   "execution_count": 4,
   "id": "b6a4263d-6393-44c8-8149-33b1d8e92631",
   "metadata": {},
   "outputs": [],
   "source": [
    "def neighbours(coordinate, shape):\n",
    "    row, col, rows, cols = *coordinate, *shape\n",
    "    if 0 <= row < rows and 0 <= col < cols:\n",
    "        if row > 0:\n",
    "            yield row-1, col\n",
    "        if col > 0:\n",
    "            yield row, col-1\n",
    "        if col < cols-1:\n",
    "            yield row, col+1\n",
    "        if row < rows-1:\n",
    "            yield row+1, col\n",
    "\n",
    "def neighbours_for_region(region, shape):\n",
    "    return reduce(lambda x, y: x.union(y), (neighbours(c, shape) for c in region), set()).difference(region)"
   ]
  },
  {
   "cell_type": "code",
   "execution_count": 5,
   "id": "bcb80908-cd2b-4ac6-b6cf-6e3c7e11ef8f",
   "metadata": {},
   "outputs": [],
   "source": [
    "class BoardSolution:\n",
    "\n",
    "    def __init__(self, shape, clues, pheromone_matrix):\n",
    "        self.clues = clues\n",
    "        self.pheromone_matrix = pheromone_matrix\n",
    "        self.tiles_to_allocate = sum(clues.values())\n",
    "        self.board = np.full(shape, BLACK, dtype=int)\n",
    "        for coord in clues.keys():\n",
    "            self.board[coord] = clues[coord]\n",
    "\n",
    "    def score(self):\n",
    "        missing_tiles = self.tiles_to_allocate - int((np.array(self.board >= 0, dtype=np.uint8).sum()))\n",
    "        squares = sum((int(np.sum(self.board[r:r + 2, c:c + 2] == BLACK) == 4) for r in range(self.board.shape[0] - 1) for c in range(self.board.shape[1] - 1)))\n",
    "        return missing_tiles + squares\n",
    "\n",
    "    def expand_island(self, coord):\n",
    "        region = {coord}\n",
    "\n",
    "        def is_fragmented():\n",
    "            water = np.array(self.board == -1, dtype=np.uint8)\n",
    "    \n",
    "            def fill_region(coord):\n",
    "                if water[coord] == 1:\n",
    "                    water[coord] = 0\n",
    "                    for c in neighbours(coord, water.shape):\n",
    "                        fill_region(c)\n",
    "    \n",
    "            r, c = np.argwhere(water == 1)[0]\n",
    "            fill_region((int(r), int(c)))\n",
    "            return np.sum(water) > 0\n",
    "        \n",
    "        def fragments_board(coord):\n",
    "            self.board[coord] = WHITE\n",
    "            result = is_fragmented()\n",
    "            self.board[coord] = BLACK\n",
    "            return result\n",
    "\n",
    "        def choose_one(coordinates):\n",
    "            # return random.choice(list(coordinates))\n",
    "            value, pick = 0.0, random.uniform(0, sum(self.pheromone_matrix[c] for c in coordinates))\n",
    "            for c in coordinates:\n",
    "                value += self.pheromone_matrix[c]\n",
    "                if value >= pick:\n",
    "                    return c\n",
    "        \n",
    "        def expand_region():\n",
    "            if self.board[coord] > len(region):\n",
    "                adjacent = {c for c in neighbours_for_region(region, self.board.shape) if self.board[c] == BLACK}\n",
    "                allocated_to_others = {c for c in adjacent for n in neighbours(c, self.board.shape) if self.board[n] != BLACK and n not in region}\n",
    "                acceptable = {c for c in adjacent.difference(allocated_to_others) if not fragments_board(c)}\n",
    "                if acceptable:\n",
    "                    c = choose_one(acceptable)\n",
    "                    self.board[c] = WHITE\n",
    "                    region.add(c)\n",
    "                    expand_region()\n",
    "        expand_region()\n",
    "\n",
    "    def solve(self):\n",
    "        all_islands = [(int(r), int(c)) for r, c in np.argwhere(self.board > 0)]\n",
    "        random.shuffle(all_islands)\n",
    "        for coord in all_islands:\n",
    "            self.expand_island(coord)\n",
    "        return self.score()\n"
   ]
  },
  {
   "cell_type": "code",
   "execution_count": 108,
   "id": "3541c2a1-4e16-4b0d-977c-df7e58ec98be",
   "metadata": {},
   "outputs": [],
   "source": [
    "class AntColony:\n",
    "\n",
    "    ANTS_PER_GENERATION = 10\n",
    "    GENERATIONS = 300\n",
    "\n",
    "    LOCAL_PHEROMONE_UPDATE = 0.5\n",
    "    GLOBAL_EVAPORATION = 0.2\n",
    "    TAU_EVAPORATION = 0.1\n",
    "\n",
    "    def __init__(self, shape, islands):\n",
    "        self.shape = shape\n",
    "        self.clues = islands\n",
    "        self.tau0 = 1.0 / sum(islands.values())\n",
    "        self.pheromone_matrix = np.full(shape, self.tau0, dtype=np.float16)\n",
    "        self.pheromone_history = [np.copy(self.pheromone_matrix)]\n",
    "        self.solution = None\n",
    "\n",
    "    def generation(self, pheromone_matrix):\n",
    "        best_score, best_solution = reduce(lambda x, y: x * y, self.shape), None\n",
    "        for _ in range(AntColony.ANTS_PER_GENERATION):\n",
    "            solution = BoardSolution(self.shape, self.clues, pheromone_matrix)\n",
    "            score = solution.solve()\n",
    "            if score == 0:\n",
    "                return solution\n",
    "            elif score < best_score:\n",
    "                best_score, best_solution = score, solution\n",
    "            verbose('.', end='')\n",
    "            np.putmask(pheromone_matrix, solution.board >= WHITE, (1.0 - AntColony.LOCAL_PHEROMONE_UPDATE) * pheromone_matrix + AntColony.LOCAL_PHEROMONE_UPDATE * self.tau0)\n",
    "        return best_solution\n",
    "\n",
    "    def solve(self):\n",
    "        tau_best = self.tau0\n",
    "        for generation in range(AntColony.GENERATIONS):\n",
    "            verbose(f\"Generation: {generation}: \", end='')\n",
    "            solution = self.generation(np.copy(self.pheromone_matrix))\n",
    "            score = solution.score()\n",
    "            if score == 0:\n",
    "                self.solution = solution\n",
    "                verbose(\" solution found\")\n",
    "                return True\n",
    "            verbose(f\" best score: {score}, pheromone max: {self.pheromone_matrix.max():.4f}\")\n",
    "            tau = 1.0 / score\n",
    "            if tau > tau_best:\n",
    "                np.putmask(self.pheromone_matrix, solution.board >= WHITE, ((1.0 - AntColony.GLOBAL_EVAPORATION) * self.pheromone_matrix + AntColony.GLOBAL_EVAPORATION * tau).astype(np.float16))\n",
    "                self.pheromone_history.append(np.copy(self.pheromone_matrix))\n",
    "                tau_best = tau\n",
    "            tau_best = (1.0 - AntColony.TAU_EVAPORATION) * tau_best\n",
    "        return False\n"
   ]
  },
  {
   "cell_type": "code",
   "execution_count": 112,
   "id": "c132b2ca-5809-4efa-b8e8-d2c0ad8f7acf",
   "metadata": {},
   "outputs": [
    {
     "name": "stdout",
     "output_type": "stream",
     "text": [
      "[[0 6 0 0 0 2 0]\n",
      " [0 0 0 0 0 0 0]\n",
      " [0 0 3 0 2 0 0]\n",
      " [0 0 0 0 0 0 0]\n",
      " [0 0 3 0 2 0 0]\n",
      " [0 0 0 0 0 0 0]\n",
      " [0 2 0 0 0 1 0]]\n"
     ]
    }
   ],
   "source": [
    "SAMPLE = 2\n",
    "\n",
    "source = SampleSource()\n",
    "print(source[SAMPLE])"
   ]
  },
  {
   "cell_type": "code",
   "execution_count": 114,
   "id": "54e2afbc-50c6-4641-8206-7c8310f9c52f",
   "metadata": {},
   "outputs": [
    {
     "name": "stdout",
     "output_type": "stream",
     "text": [
      "Generation: 0: .......... best score: 3, pheromone max: 0.0476\n",
      "Generation: 1: .......... best score: 3, pheromone max: 0.1047\n",
      "Generation: 2: .......... best score: 3, pheromone max: 0.1504\n",
      "Generation: 3: .......... best score: 3, pheromone max: 0.1870\n",
      "Generation: 4: .......... best score: 3, pheromone max: 0.2162\n",
      "Generation: 5: .. solution found\n"
     ]
    },
    {
     "data": {
      "text/plain": [
       "True"
      ]
     },
     "execution_count": 114,
     "metadata": {},
     "output_type": "execute_result"
    }
   ],
   "source": [
    "colony = AntColony(**source.sample(SAMPLE))\n",
    "colony.solve()"
   ]
  },
  {
   "cell_type": "code",
   "execution_count": 115,
   "id": "c72fcb2f-64ba-4868-b914-172a6e423cad",
   "metadata": {},
   "outputs": [
    {
     "data": {
      "image/png": "[encoded data removed]",
      "text/plain": [
       "<Figure size 300x300 with 1 Axes>"
      ]
     },
     "metadata": {},
     "output_type": "display_data"
    }
   ],
   "source": [
    "image = (colony.solution.board >= WHITE).astype(np.float16)\n",
    "\n",
    "fig=plt.figure(figsize=(3, 3))\n",
    "plt.imshow(image, cmap='gray')\n",
    "plt.show()"
   ]
  },
  {
   "cell_type": "code",
   "execution_count": 116,
   "id": "dcbec89e-b6fa-4acb-9864-845fe405ee32",
   "metadata": {},
   "outputs": [
    {
     "name": "stdout",
     "output_type": "stream",
     "text": [
      "[[0 0 0 0 0 0 0 0 0 0]\n",
      " [0 0 0 0 0 0 0 2 0 0]\n",
      " [0 5 0 0 0 0 0 0 0 4]\n",
      " [0 0 9 0 0 0 0 0 2 0]\n",
      " [0 2 0 0 0 0 0 0 0 0]\n",
      " [0 0 0 0 0 0 0 0 0 0]\n",
      " [0 1 0 0 0 0 0 0 0 0]\n",
      " [2 0 8 0 0 0 0 0 0 0]\n",
      " [0 0 0 0 3 0 0 0 1 0]\n",
      " [0 0 1 0 0 0 0 0 0 0]]\n"
     ]
    }
   ],
   "source": [
    "SAMPLE = 5\n",
    "\n",
    "source = SampleSource()\n",
    "print(source[SAMPLE])"
   ]
  },
  {
   "cell_type": "code",
   "execution_count": 118,
   "id": "ab4167ea-2067-4e83-a478-c90df73bb796",
   "metadata": {},
   "outputs": [
    {
     "name": "stdout",
     "output_type": "stream",
     "text": [
      "Generation: 0: .......... best score: 5, pheromone max: 0.0250\n",
      "Generation: 1: .......... best score: 9, pheromone max: 0.0600\n",
      "Generation: 2: .......... best score: 10, pheromone max: 0.0600\n",
      "Generation: 3: .......... best score: 13, pheromone max: 0.0600\n",
      "Generation: 4: .......... best score: 4, pheromone max: 0.0600\n",
      "Generation: 5: .......... best score: 17, pheromone max: 0.0980\n",
      "Generation: 6: .......... best score: 8, pheromone max: 0.0980\n",
      "Generation: 7: .......... best score: 7, pheromone max: 0.0980\n",
      "Generation: 8: .......... best score: 11, pheromone max: 0.0980\n",
      "Generation: 9: .......... best score: 6, pheromone max: 0.0980\n",
      "Generation: 10: .......... best score: 5, pheromone max: 0.1117\n",
      "Generation: 11: .......... best score: 6, pheromone max: 0.1294\n",
      "Generation: 12: .......... best score: 7, pheromone max: 0.1294\n",
      "Generation: 13: .......... best score: 8, pheromone max: 0.1294\n",
      "Generation: 14: .......... best score: 6, pheromone max: 0.1294\n",
      "Generation: 15: .......... best score: 11, pheromone max: 0.1368\n",
      "Generation: 16: .......... best score: 9, pheromone max: 0.1368\n",
      "Generation: 17: .......... best score: 17, pheromone max: 0.1368\n",
      "Generation: 18: .......... best score: 4, pheromone max: 0.1368\n",
      "Generation: 19: .......... best score: 6, pheromone max: 0.1594\n",
      "Generation: 20: .......... best score: 14, pheromone max: 0.1594\n",
      "Generation: 21: .......... best score: 6, pheromone max: 0.1594\n",
      "Generation: 22: .......... best score: 6, pheromone max: 0.1594\n",
      "Generation: 23: .......... best score: 3, pheromone max: 0.1609\n",
      "Generation: 24: .......... best score: 6, pheromone max: 0.1953\n",
      "Generation: 25: .......... best score: 4, pheromone max: 0.1953\n",
      "Generation: 26: .......... best score: 10, pheromone max: 0.1953\n",
      "Generation: 27: .......... best score: 2, pheromone max: 0.1953\n",
      "Generation: 28: .......... best score: 5, pheromone max: 0.2563\n",
      "Generation: 29: .. solution found\n"
     ]
    },
    {
     "data": {
      "text/plain": [
       "True"
      ]
     },
     "execution_count": 118,
     "metadata": {},
     "output_type": "execute_result"
    }
   ],
   "source": [
    "colony = AntColony(**source.sample(SAMPLE))\n",
    "colony.solve()"
   ]
  },
  {
   "cell_type": "code",
   "execution_count": 119,
   "id": "bb5c5cbd-b91b-4548-af98-edef798c0af5",
   "metadata": {},
   "outputs": [
    {
     "data": {
      "image/png": "[encoded data removed]",
      "text/plain": [
       "<Figure size 300x300 with 1 Axes>"
      ]
     },
     "metadata": {},
     "output_type": "display_data"
    }
   ],
   "source": [
    "image = (colony.solution.board >= WHITE).astype(np.float16)\n",
    "\n",
    "fig=plt.figure(figsize=(3, 3))\n",
    "plt.imshow(image, cmap='gray')\n",
    "plt.show()"
   ]
  },
  {
   "cell_type": "code",
   "execution_count": 120,
   "id": "29c3c920-106f-4e66-bb8d-795ebb328c37",
   "metadata": {},
   "outputs": [
    {
     "data": {
      "image/png": "[encoded data removed]",
      "text/plain": [
       "<Figure size 2000x1500 with 10 Axes>"
      ]
     },
     "metadata": {},
     "output_type": "display_data"
    }
   ],
   "source": [
    "cols = 6\n",
    "rows = len(colony.pheromone_history) // cols + int(len(colony.pheromone_history) % cols)\n",
    "\n",
    "image_max_value = max([h.max() for h in colony.pheromone_history])\n",
    "\n",
    "fig=plt.figure(figsize=(20, 3 * rows))\n",
    "\n",
    "for i, image in enumerate(colony.pheromone_history, start=1):\n",
    "    fig.add_subplot(rows, cols, i)\n",
    "    plt.imshow(image / image_max_value, cmap='gray', norm=matplotlib.colors.NoNorm())\n",
    "plt.show()"
   ]
  },
  {
   "cell_type": "code",
   "execution_count": 121,
   "id": "1d501ae7-bda1-42c5-8565-bfa174363463",
   "metadata": {},
   "outputs": [
    {
     "name": "stdout",
     "output_type": "stream",
     "text": [
      "[[1 0 0 8 0 2 0 0 0 0 0 0]\n",
      " [0 5 0 0 0 0 0 0 0 0 0 0]\n",
      " [0 0 0 0 0 5 0 0 0 0 2 0]\n",
      " [0 0 0 0 0 0 0 0 0 0 0 1]\n",
      " [0 0 0 0 0 0 0 0 0 0 0 0]\n",
      " [0 0 0 2 0 0 0 0 0 0 0 0]\n",
      " [0 0 0 0 0 0 0 0 4 0 0 0]\n",
      " [0 0 0 0 0 0 0 0 0 0 0 0]\n",
      " [3 0 0 0 0 0 0 0 0 0 0 0]\n",
      " [0 2 0 0 0 0 5 0 0 0 0 0]\n",
      " [0 0 0 0 0 0 0 0 0 0 9 0]\n",
      " [0 0 0 0 0 0 5 0 5 0 0 1]]\n"
     ]
    }
   ],
   "source": [
    "SAMPLE = 6\n",
    "\n",
    "source = SampleSource()\n",
    "print(source[SAMPLE])"
   ]
  },
  {
   "cell_type": "code",
   "execution_count": 122,
   "id": "7ed80157-aa6d-47e8-a4fe-f669b60c7539",
   "metadata": {},
   "outputs": [
    {
     "name": "stdout",
     "output_type": "stream",
     "text": [
      "Generation: 0: .......... best score: 14, pheromone max: 0.0167\n",
      "Generation: 1: .......... best score: 27, pheromone max: 0.0276\n",
      "Generation: 2: .......... best score: 27, pheromone max: 0.0276\n",
      "Generation: 3: .......... best score: 26, pheromone max: 0.0276\n",
      "Generation: 4: .......... best score: 33, pheromone max: 0.0276\n",
      "Generation: 5: .......... best score: 21, pheromone max: 0.0276\n",
      "Generation: 6: .......... best score: 26, pheromone max: 0.0316\n",
      "Generation: 7: .......... best score: 22, pheromone max: 0.0316\n",
      "Generation: 8: .......... best score: 22, pheromone max: 0.0344\n",
      "Generation: 9: .......... best score: 17, pheromone max: 0.0366\n",
      "Generation: 10: .......... best score: 22, pheromone max: 0.0410\n",
      "Generation: 11: .......... best score: 27, pheromone max: 0.0410\n",
      "Generation: 12: .......... best score: 21, pheromone max: 0.0410\n",
      "Generation: 13: .......... best score: 22, pheromone max: 0.0423\n",
      "Generation: 14: .......... best score: 26, pheromone max: 0.0429\n",
      "Generation: 15: .......... best score: 25, pheromone max: 0.0429\n",
      "Generation: 16: .......... best score: 22, pheromone max: 0.0429\n",
      "Generation: 17: .......... best score: 16, pheromone max: 0.0434\n",
      "Generation: 18: .......... best score: 29, pheromone max: 0.0472\n",
      "Generation: 19: .......... best score: 20, pheromone max: 0.0472\n",
      "Generation: 20: .......... best score: 13, pheromone max: 0.0472\n",
      "Generation: 21: .......... best score: 24, pheromone max: 0.0532\n",
      "Generation: 22: .......... best score: 26, pheromone max: 0.0532\n",
      "Generation: 23: .......... best score: 18, pheromone max: 0.0532\n",
      "Generation: 24: .......... best score: 29, pheromone max: 0.0532\n",
      "Generation: 25: .......... best score: 22, pheromone max: 0.0532\n",
      "Generation: 26: .......... best score: 29, pheromone max: 0.0528\n",
      "Generation: 27: .......... best score: 19, pheromone max: 0.0528\n",
      "Generation: 28: .......... best score: 29, pheromone max: 0.0528\n",
      "Generation: 29: .......... best score: 21, pheromone max: 0.0528\n",
      "Generation: 30: .......... best score: 27, pheromone max: 0.0518\n",
      "Generation: 31: .......... best score: 28, pheromone max: 0.0518\n",
      "Generation: 32: .......... best score: 16, pheromone max: 0.0518\n",
      "Generation: 33: .......... best score: 22, pheromone max: 0.0539\n",
      "Generation: 34: .......... best score: 22, pheromone max: 0.0539\n",
      "Generation: 35: .......... best score: 17, pheromone max: 0.0539\n",
      "Generation: 36: .......... best score: 21, pheromone max: 0.0549\n",
      "Generation: 37: .......... best score: 26, pheromone max: 0.0549\n",
      "Generation: 38: .......... best score: 32, pheromone max: 0.0549\n",
      "Generation: 39: .......... best score: 19, pheromone max: 0.0549\n",
      "Generation: 40: .......... best score: 22, pheromone max: 0.0544\n",
      "Generation: 41: .......... best score: 26, pheromone max: 0.0544\n",
      "Generation: 42: .......... best score: 32, pheromone max: 0.0544\n",
      "Generation: 43: .......... best score: 25, pheromone max: 0.0544\n",
      "Generation: 44: .......... best score: 12, pheromone max: 0.0539\n",
      "Generation: 45: .......... best score: 22, pheromone max: 0.0598\n",
      "Generation: 46: .......... best score: 24, pheromone max: 0.0598\n",
      "Generation: 47: .......... best score: 21, pheromone max: 0.0598\n",
      "Generation: 48: .......... best score: 15, pheromone max: 0.0598\n",
      "Generation: 49: .......... best score: 27, pheromone max: 0.0612\n",
      "Generation: 50: .......... best score: 15, pheromone max: 0.0612\n",
      "Generation: 51: . solution found\n"
     ]
    },
    {
     "data": {
      "text/plain": [
       "True"
      ]
     },
     "execution_count": 122,
     "metadata": {},
     "output_type": "execute_result"
    }
   ],
   "source": [
    "colony = AntColony(**source.sample(SAMPLE))\n",
    "colony.solve()"
   ]
  },
  {
   "cell_type": "code",
   "execution_count": 123,
   "id": "1e091712-fe02-4221-be95-b72629960c99",
   "metadata": {},
   "outputs": [
    {
     "data": {
      "image/png": "[encoded data removed]",
      "text/plain": [
       "<Figure size 300x300 with 1 Axes>"
      ]
     },
     "metadata": {},
     "output_type": "display_data"
    }
   ],
   "source": [
    "image = (colony.solution.board >= WHITE).astype(np.float16)\n",
    "\n",
    "fig=plt.figure(figsize=(3, 3))\n",
    "plt.imshow(image, cmap='gray')\n",
    "plt.show()"
   ]
  },
  {
   "cell_type": "code",
   "execution_count": 124,
   "id": "c3f91bdd-3397-4dae-9103-f1db4158eaea",
   "metadata": {},
   "outputs": [
    {
     "data": {
      "image/png": "[encoded data removed]",
      "text/plain": [
       "<Figure size 2000x2100 with 22 Axes>"
      ]
     },
     "metadata": {},
     "output_type": "display_data"
    }
   ],
   "source": [
    "cols = 6\n",
    "rows = len(colony.pheromone_history) // cols + int(len(colony.pheromone_history) % cols)\n",
    "\n",
    "image_max_value = max([h.max() for h in colony.pheromone_history])\n",
    "\n",
    "fig=plt.figure(figsize=(20, 3 * rows))\n",
    "\n",
    "for i, image in enumerate(colony.pheromone_history, start=1):\n",
    "    fig.add_subplot(rows, cols, i)\n",
    "    plt.imshow(image / image_max_value, cmap='gray', norm=matplotlib.colors.NoNorm())\n",
    "plt.show()"
   ]
  }
 ],
 "metadata": {
  "kernelspec": {
   "display_name": "Python 3 (ipykernel)",
   "language": "python",
   "name": "python3"
  },
  "language_info": {
   "codemirror_mode": {
    "name": "ipython",
    "version": 3
   },
   "file_extension": ".py",
   "mimetype": "text/x-python",
   "name": "python",
   "nbconvert_exporter": "python",
   "pygments_lexer": "ipython3",
   "version": "3.12.6"
  }
 },
 "nbformat": 4,
 "nbformat_minor": 5
}
