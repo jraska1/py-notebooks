{
 "cells": [
  {
   "cell_type": "markdown",
   "id": "58f59ec3",
   "metadata": {},
   "source": [
    "Jako poslední pokus vyřešit logickou hru Futoshiki jsem zkusil použít genetické algoritmy. Ty by měly umožňovat řešit optimalizační úlohy, takže třeba zaberou i v tomto případě.\n",
    "\n",
    "Pokud vás zajímá pouze výsledek mého snažení, tak musím dopředu avizovat, že jsem se k nějakým dobrým výsledkům nedopracoval. Jednotlivá řešení konvergovala, ale obtížně jsem se dostával k řešení, které by bylo úplně bez chyb.\n",
    "\n",
    "Pro vás ostatní, uvádím postup pro jedno zadání hry s velikostí 5x5.\n",
    "\n",
    "Nechtěl jsem psát vše úplně od počátku, proto jsem vyzkoušel použít existující knihovnu [PyGAD](https://pygad.readthedocs.io/en/latest/). A bylo to také ze studijních důvodů. Ono se vždy lépe zkouší nový software na nějakém reálném problému, než jen opakovat příklady z tutoriálu."
   ]
  },
  {
   "cell_type": "markdown",
   "id": "74d74e0b",
   "metadata": {},
   "source": [
    "# Zdroj testovacích dat\n",
    "\n",
    "Testovací data mám již připravená ve třídě `SampleSource`, takže stačí je jen použít stejně jako v předchozím příspěvku."
   ]
  },
  {
   "cell_type": "code",
   "execution_count": 1,
   "id": "30bf5619",
   "metadata": {},
   "outputs": [
    {
     "name": "stdout",
     "output_type": "stream",
     "text": [
      "0>0 5 0 0\n",
      "\n",
      "0 2 0 0 0\n",
      "        ^\n",
      "0 0 0 0 0\n",
      "\n",
      "0 0 0 3 0\n",
      "\n",
      "0 0 0 2<0\n"
     ]
    }
   ],
   "source": [
    "from Futoshiki_DataSource import SampleSource\n",
    "\n",
    "samples = SampleSource()\n",
    "\n",
    "sample_number = 5\n",
    "print(*samples.data(sample_number), sep='\\n')\n",
    "\n",
    "SIZE = samples.size(sample_number)\n",
    "grid = samples.grid(sample_number)\n",
    "constraints = samples.constraints(sample_number)"
   ]
  },
  {
   "cell_type": "markdown",
   "id": "5f10d425",
   "metadata": {},
   "source": [
    "# Řešení s využitím PyGAD\n",
    "\n",
    "## Reprezentace řešení\n",
    "První otázka je, jak budu reprezentovat jedno řešení (chromozom). Pro použití v PyGAD je nejvhodnější, pokud je řešení reprezentováno jako jednorozměrné pole celočíselných hodnot. To mně docela vyhovuje, takže budu jedno řešení reprezentovat jako spojení jednotlivých řádků řešení hry za sebou. Každé políčko (gen) může nabývat hodnot 1..N."
   ]
  },
  {
   "cell_type": "code",
   "execution_count": 2,
   "id": "4fe710ec",
   "metadata": {},
   "outputs": [],
   "source": [
    "import math\n",
    "import random\n",
    "import pygad\n",
    "import numpy as np"
   ]
  },
  {
   "cell_type": "markdown",
   "id": "dccc4bae",
   "metadata": {},
   "source": [
    "## Výpočet kvality řešení\n",
    "Jedním z klíčových bodů GA je stanovení \"kvality\" jednoho řešení.\n",
    "\n",
    "V mém případě je lepší to řešení, které má méně konfliktů v požadovaných omezeních. Těmi omezeními se rozumí unikátnost v řádku a slouci, a také splnění explicitně požadovaných relací v zadání.\n",
    "\n",
    "Následující metoda `fitness` tedy počítá, kolik konfliktů má zadané řešení.\n",
    "\n",
    "* Nejdříve si převedu vektor zpět do matice (to aby se mně lépe pracovalo s řádky, sloupci a jednotlivými políčky).\n",
    "* Pro každý řádek zjistím rozdíl mezi velikosti řádku a velikostí množiny hodnot v řádku. Pokud mám v řádku opakovaně stejné číslo, pak je výsledek nenulový.\n",
    "* Stejně tak pro každý sloupec zjistím rozdíl velikosti sloupce a velikostí množiny hodnot ve sloupci.\n",
    "* Nakonec projdu všechna požadovaná omezení a ověřuji, jestli jsou platná. Pokud ne, opět přispívají do výsledné hodnoty kvality.\n",
    "* Výsledek je pak součet všech zjištěných konfliků, převedený do záporné hodnoty (to proto, aby mělo horší řešení menší hodnotu fitness)."
   ]
  },
  {
   "cell_type": "code",
   "execution_count": 3,
   "id": "419b643f",
   "metadata": {},
   "outputs": [],
   "source": [
    "def fitness(solution, index):\n",
    "    res = 0\n",
    "    size = math.isqrt(len(solution))\n",
    "    grid = np.reshape(solution, (size, size))\n",
    "    res += sum((size - len(set(row)) for row in grid))\n",
    "    res += sum((size - len(set(col)) for col in grid.T))\n",
    "    for low, high in constraints:\n",
    "        res += int(not (grid[low] < grid[high]))\n",
    "    return - res"
   ]
  },
  {
   "cell_type": "markdown",
   "id": "a52aeb7f",
   "metadata": {},
   "source": [
    "## Rozsahy hodnot pro jednotlivé geny\n",
    "Dříve jsem v reprezentaci řešení napsal, že každý gen může nabývat hodnot z rozmezí 1..N. Ono to ale není tak úplně pravda.\n",
    "\n",
    "V případě, že mám v zadání specifikovánu hodnotu konkrétního políčka (genu), pak chci, aby gen nabýval pouze této hodnoty.\n",
    "\n",
    "Navíc mohu při posouzení povolených hodnot pro jednotlivé geny vzít v úvahu také explcitně stanovená omezení a omezení unikátnosti v řádku a sloupci.\n",
    "\n",
    "Například, pokud mám pro nějaké políčko stanovenu hodnotu v zadání, pak pro všechna ostatní políčka v řádku a sloupci platí, že tuto hodnotu obsahovat nesmí.\n",
    "\n",
    "Nebo pokud je explicitně stanovena relace mezi dvěma políčky, pak množina povolených hodnot pro větší políčko nesmí obsahovat minimum hodnot menšího políčka (pokud by taková hodnota byla povolena, pak by nebylo možné omezení splnit).\n",
    "\n",
    "A navíc, mezi relacemi je tranzitivní vztah, kdy změnou rozsahu hodnot pro jeden gen mohou být ovlivněny rozsahy hodnot jiných genů.\n",
    "\n",
    "Takhle tedy vypadá implementace metody `gene_spaces`, která mně počítá množiny povolených hodnot pro jednotlivé geny:"
   ]
  },
  {
   "cell_type": "code",
   "execution_count": 4,
   "id": "7dc3c2a7",
   "metadata": {},
   "outputs": [
    {
     "data": {
      "text/plain": [
       "[[{2, 3, 4}, {1, 3}, {5}, {1, 4}, {1, 2, 3, 4}],\n",
       " [{1, 3, 4, 5}, {2}, {1, 3, 4}, {1, 4, 5}, {1, 3, 4}],\n",
       " [{1, 2, 3, 4, 5}, {1, 3, 4, 5}, {1, 2, 3, 4}, {1, 4, 5}, {2, 3, 4, 5}],\n",
       " [{1, 2, 4, 5}, {1, 4, 5}, {1, 2, 4}, {3}, {1, 2, 4, 5}],\n",
       " [{1, 3, 4, 5}, {1, 3, 4, 5}, {1, 3, 4}, {2}, {3, 4, 5}]]"
      ]
     },
     "execution_count": 4,
     "metadata": {},
     "output_type": "execute_result"
    }
   ],
   "source": [
    "def gene_spaces(grid, constraints):\n",
    "    size = len(grid)\n",
    "    spaces = [[{val} if val else set(range(1, size + 1)) for val in row] for row in grid]\n",
    "\n",
    "    def flatten_size(item):\n",
    "        return len(item) if isinstance(item, set) else sum((flatten_size(s) for s in item))\n",
    "\n",
    "    curr_size = flatten_size(spaces)\n",
    "    while True:\n",
    "        # unique value constraint for rows and columns\n",
    "        for x in range(size):\n",
    "            for y in range(size):\n",
    "                sp = spaces[x][y]\n",
    "                if len(sp) == 1:\n",
    "                    for i in range(size):\n",
    "                        if i != x:\n",
    "                            spaces[i][y] -= sp\n",
    "                        if i != y:\n",
    "                            spaces[x][i] -= sp\n",
    "\n",
    "        # constraints defined by assignment\n",
    "        for low, high in constraints:\n",
    "            l0, l1, h0, h1 = *low, *high\n",
    "\n",
    "            min_value = min(spaces[l0][l1])\n",
    "            spaces[h0][h1] = {v for v in spaces[h0][h1] if v > min_value}\n",
    "\n",
    "            max_value = max(spaces[h0][h1])\n",
    "            spaces[l0][l1] = {v for v in spaces[l0][l1] if v < max_value}\n",
    "\n",
    "        new_size = flatten_size(spaces)\n",
    "        if new_size >= curr_size:\n",
    "            break\n",
    "        curr_size = new_size\n",
    "\n",
    "    return spaces\n",
    "\n",
    "\n",
    "def gene_space_prep(space):\n",
    "    return [list(space[i][j]) for i in range(len(space)) for j in range(len(space))]\n",
    "        \n",
    "gene_spaces(grid, constraints)"
   ]
  },
  {
   "cell_type": "markdown",
   "id": "ab8559dc",
   "metadata": {},
   "source": [
    "Postup je zhruba tento:\n",
    "* pro každý hledaný gen definuji množinu povolených hodnot v rozsahu 1..N, geny se zadanou hodnotou mají množinu jednoprvkovou.\n",
    "* dále opakuji cyklus, dokud se mně nějak mění množiny hodnot pro všechny geny\n",
    "* v každém cyklu pak:\n",
    "    * pokud je množina povolených hodnot políčka jednoprvková, odečtu tuto hodnotu od všech ostatních množin v řádku a ve sloupci\n",
    "    * procházím všechna omezení a z množiny povolených hodnot většího políčka odečtu minimum povolených hodnot políčka menšího\n",
    "    * obdobně tak z množiny povolených hodnot menšího políčka odečtu maximum políčka většího\n",
    "\n",
    "Výsledek si můžete ověřit výše."
   ]
  },
  {
   "cell_type": "markdown",
   "id": "6d13ec93",
   "metadata": {},
   "source": [
    "## Spuštění řešení\n",
    "A teď již se můžu dostat k vlastnímu spuštění řešení.\n",
    "\n",
    "Nejdříve potřebuji instanci třídy `GA`, ve které stanovuji parametry chování algoritmu.\n",
    "V tomto konkrétním případě jsem nastavoval tyto parametry (možnosti nastavení algoritmu jsou daleko širší, pro zájemce odkazuji na [dokumentaci PyGAD](https://pygad.readthedocs.io/en/latest/README_pygad_ReadTheDocs.html#pygad-ga-class)):\n",
    "\n",
    "\n",
    "`num_generations` - maximální počet generací\n",
    "\n",
    "`num_parents_mating` - celový počet řešení z jedné generace, které budou vybrány jako rodiče pro generaci následující\n",
    "\n",
    "`fitness_func` - funkce pro výpočet kvality jednoho řešení\n",
    "\n",
    "`sol_per_pop` - počet řešení v populaci\n",
    "\n",
    "`num_genes` - počet genů, které tvoří jedno řešení \n",
    "\n",
    "`gene_type` - typ hodnot, kterých nabývají geny\n",
    "\n",
    "`gene_space` - rozsahy povolených hodnot pro jednotlivé geny\n",
    "\n",
    "`parent_selection_type` - algoritmus výběru rodičů pro následující generaci\n",
    "\n",
    "`crossover_type` - způsob křížení rodičů a vytvoření jejich potomků\n",
    "\n",
    "`mutation_type` - metoda výběru genů pro mutaci\n",
    "\n",
    "`mutation_probability` - pravděpodobnost mutace jednoho genu\n",
    "\n",
    "`stop_criteria` - kritérium, při jehož splnění se algoritmus zastaví (najdu řešení s kvalitou rovnou 0)\n",
    "\n",
    "Dále již postačuje spustit řešení zavoláním metody `run`.\n"
   ]
  },
  {
   "cell_type": "code",
   "execution_count": 5,
   "id": "86da91aa",
   "metadata": {},
   "outputs": [
    {
     "data": {
      "image/png": "[encoded data removed]",
      "text/plain": [
       "<Figure size 432x288 with 1 Axes>"
      ]
     },
     "metadata": {
      "needs_background": "light"
     },
     "output_type": "display_data"
    },
    {
     "name": "stdout",
     "output_type": "stream",
     "text": [
      "SUCCESS: (113)\n",
      "[[3 1 5 4 2]\n",
      " [4 2 1 5 3]\n",
      " [5 3 2 1 4]\n",
      " [2 5 4 3 1]\n",
      " [1 4 3 2 5]]\n"
     ]
    }
   ],
   "source": [
    "random.seed(0)\n",
    "np.random.seed(0)\n",
    "\n",
    "ga = pygad.GA(num_generations=10000,\n",
    "              num_parents_mating=16,\n",
    "              fitness_func=fitness,\n",
    "              sol_per_pop=20,\n",
    "              num_genes=SIZE**2,\n",
    "              gene_type=int,\n",
    "              gene_space=gene_space_prep(gene_spaces(grid, constraints)),\n",
    "              parent_selection_type='sss',\n",
    "              crossover_type='single_point',\n",
    "              mutation_type='random',\n",
    "              mutation_probability=0.01,\n",
    "              stop_criteria='reach_0',\n",
    "              )\n",
    "ga.run()\n",
    "\n",
    "ga.plot_fitness()\n",
    "\n",
    "result = np.where(ga.last_generation_fitness == 0)\n",
    "if len(result[0]) > 0:\n",
    "    s = samples.size(sample_number)\n",
    "    print(f\"SUCCESS: ({ga.generations_completed})\\n{ga.population[result[0][0]].reshape((s, s))}\")\n",
    "else:\n",
    "    print(\"BEST FITNESS:\", ga.last_generation_fitness.max())"
   ]
  },
  {
   "cell_type": "markdown",
   "id": "9c4656b6",
   "metadata": {},
   "source": [
    "Připojený graf zachycuje vývoj hodnoty fitness pro nejlepší řešení v každé generaci.\n",
    "K vyhovujícímu řešení jsem dospěl po 113 generacích. "
   ]
  },
  {
   "cell_type": "markdown",
   "id": "47bdf83c",
   "metadata": {},
   "source": [
    "# Poznámky na závěr\n",
    "Jak jsem již upozorňoval na začátku článku, toto je ukázka řešení, které se povedlo. Pokud jsem ale obdobný postup zkoušel na zadání složitější, výsledky nebyly zdaleka tak příznivé.\n",
    "\n",
    "Co jsem postupně ještě zkoušel:\n",
    "1. Hledat různá nastavení parametrů pro velikost populace, počet rodičů, algoritmus výběru rodičů, algoritmus výběru genů pro mutaci a pravděpodobnost mutace tak, abych dostal vyhovující řešení. Někdy se to povedlo, ale nenašel jsem jednu univerzální sadu parametrů, která by vyhovovala pro všechna řešení.\n",
    "2. Zkusil jsem jinou reprezentaci jednoho řešení:\n",
    "    * každé řešení bylo reprezentováno jako seznam řádků\n",
    "    * v řádcích byla zachována všechna požadovaná omezení a unikátnost hodnot\n",
    "    * křížení rodičů jsem prováděl na úrovni řádků\n",
    "    * mutace jsem naopak dělal pouze v rámci jednoho řádku přehozením hodnot tak, aby zůstala zachována všechna omezení v rámci řádku\n",
    "3. Použil jsem inkrementální přístup algoritmu, kdy se nevytvářela celá generace ale křížili se jen dva vybraní rodiče\n",
    "\n",
    "Každý z pokusů byl v něčem lepší, a někdy zase horší. Nenašel jsem jeden úplně vyhovující. Proto jsem vás těmi pokusy neobtěžoval\n",
    "a prezentoval jsem jen ten nejjednodušší postup.\n",
    "\n",
    "A to je dnes vše."
   ]
  }
 ],
 "metadata": {
  "kernelspec": {
   "display_name": "Python 3 (ipykernel)",
   "language": "python",
   "name": "python3"
  },
  "language_info": {
   "codemirror_mode": {
    "name": "ipython",
    "version": 3
   },
   "file_extension": ".py",
   "mimetype": "text/x-python",
   "name": "python",
   "nbconvert_exporter": "python",
   "pygments_lexer": "ipython3",
   "version": "3.9.7"
  }
 },
 "nbformat": 4,
 "nbformat_minor": 5
}
