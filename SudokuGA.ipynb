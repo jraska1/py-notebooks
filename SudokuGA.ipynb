{
 "cells": [
  {
   "cell_type": "markdown",
   "metadata": {},
   "source": [
    "V rámci dřívějšího řešení Sudoku pomocí DFS mne napadlo, zda by nešly použít pro řešení také genetické algoritmy. \n",
    "\n",
    "Ty se používají pro hledání optimálních řešení u složitých úloh. Nejsou mně schopny zajistit to nejlepší řešení, ale mohly by najít alespoň nějaké. \n",
    "\n",
    "Zkoušel jsem hledat na internetu a našel jsem několik pokusů o použití GA pro řešení Sudoku. Lidé je používali pro řešení konkrétních zadání, nebo pro generování nových. \n",
    "\n",
    "Jako inspiraci jsem si vzal tohle:\n",
    "[Solving, Rating and Generating Sudoku Puzzles with GA](https://www.researchgate.net/profile/Timo_Mantere/publication/224301656_Solving_rating_and_generating_Sudoku_puzzles_with_GA/links/00b7d534293b09fabd000000/Solving-rating-and-generating-Sudoku-puzzles-with-GA.pdf?origin=publication_detail)\n",
    "\n",
    "# Reprezentace jednoho řešení\n",
    "Jedno řešení Sudoku jsem se rozhodl reprezentovat pomocí dvourozměrné matice o stranách __9x9__. Vzhledek k tomu, že budu hledat řešení pro konkrétní zadání, musím zajistit, aby zadaná pole zůstala vždy na svém místě. Proto je součástí reprezentace jednoho řešení také maska o stejném rozměru, která obsahuje boolean hodnotu, zda je pozice fixní.\n",
    "\n",
    "Podstatná otázka pro implementaci GA je, jakým způsobem budu provádět křížení dvou řešení a jak mutaci.\n",
    "Vyšel jsem z metody doporučené ve výše uvedeném textu, a sice takto:\n",
    "1. Každý podčtverec Sudoku musí vždý obsahovat všechna čísla _1..9_. Na úrovni podčtverců budu tedy realizovat mutace\n",
    "2. Křížit dvě řešení budu tak, že budu vyměňovat jejich podčtverce jako celek\n",
    "\n",
    "Těmito pravidly bude zajišťeno, že na úrovni podčtverců budu mít vždy správný počet čísel. Optimalizace se bude hledat na úrovni řádků a sloupců.\n",
    "\n",
    "Pro implementaci dvourozměrného pole jsem použil _numpy_."
   ]
  },
  {
   "cell_type": "markdown",
   "metadata": {},
   "source": [
    "# Postup řešení\n",
    "\n",
    "Nejdříve nějaké základní definice, abych měl z čeho vycházet:"
   ]
  },
  {
   "cell_type": "code",
   "execution_count": 14,
   "metadata": {},
   "outputs": [],
   "source": [
    "import numpy as np\n",
    "import random\n",
    "\n",
    "random.seed(0)\n",
    "\n",
    "WIDTH = 9\n",
    "GRID = WIDTH // 3\n",
    "POPULATION_SIZE = 6\n",
    "MAX_ITERATION = 10000\n",
    "\n",
    "SAMPLE = '003870509060032180049651230016200053050006072072305010200768000000020700730510000'\n",
    "\n",
    "def grid(a, i):\n",
    "    j, k = (i // GRID) * GRID, (i % GRID) * GRID\n",
    "    return a[j:j+GRID, k:k+GRID]"
   ]
  },
  {
   "cell_type": "markdown",
   "metadata": {},
   "source": [
    "Vzorek pro řešení je zadán jako řetězec __SAMPLE__ (jedná se o zřetězené řádky, kdy neznámé pozice jsou reprezentovány 0).\n",
    "\n",
    "Funkce _grid_ je pomocná. Vybere mně jeden podčtverec s rozměrem __3x3__ z celkové matice."
   ]
  },
  {
   "cell_type": "markdown",
   "metadata": {},
   "source": [
    "# Třída Solution\n",
    "Reprezentuje jedno řešení Sudoku. Zahrnuje matici s konkrétním řešením a matici masky fixních pozic."
   ]
  },
  {
   "cell_type": "code",
   "execution_count": 15,
   "metadata": {},
   "outputs": [],
   "source": [
    "class Solution:\n",
    "\n",
    "    def __init__(self, data, mask):\n",
    "        self._data = data\n",
    "        self._mask = mask\n",
    "\n",
    "    def __lt__(self, other):\n",
    "        return id(self) < id(other)\n",
    "\n",
    "    def data(self):\n",
    "        return self._data\n",
    "\n",
    "    def clone(self):\n",
    "        return Solution(np.copy(self._data), self._mask)\n",
    "\n",
    "    def fitness(self):\n",
    "        return sum([WIDTH - len(set(self._data[i, :])) for i in range(WIDTH)]) + sum([WIDTH - len(set(self._data[:, i])) for i in range(WIDTH)])\n",
    "\n",
    "    def mutate(self, probability=0.5):\n",
    "\n",
    "        def mutate_grid(i):\n",
    "            g = grid(self._data, i)\n",
    "            t = np.where(grid(self._mask, i))\n",
    "            if len(t[0]) >= 2 and random.random() < probability:\n",
    "                u, v = random.randrange(len(t[0])), random.randrange(len(t[0]))\n",
    "                x1, y1 = t[0][u], t[1][u]\n",
    "                x2, y2 = t[0][v], t[1][v]\n",
    "                g[x1, y1], g[x2, y2] = g[x2, y2], g[x1, y1]\n",
    "\n",
    "        for g in range(WIDTH):\n",
    "            mutate_grid(g)\n",
    "        return self\n"
   ]
  },
  {
   "cell_type": "markdown",
   "metadata": {},
   "source": [
    "## metoda fitness\n",
    "Tahle metoda mně spočítá, jak \"dobré\" je dané řešení. Jedná se o součet všech konfliktů na řádcích a ve sloupcích.\n",
    "Čím větší hodnota vyjde, tím horší řešení to je.\n",
    "\n",
    "V případě, že vyjde __fitness == 0__, pak jsem našel správné řešení zadaného Sudoku.\n",
    "\n",
    "## metoda mutate\n",
    "Jejím účelem je trochu zmutovat stávající řešení. \n",
    "\n",
    "Projdu tedy postupně všechny podčtverce, a zmutuji každý zvláště. \n",
    "\n",
    "V rámci jednoho podčtverce hledám ty pozice, které mohu přesouvat (podle masky), a ty pak vzájemně vyměním. Vše je ještě omezeno pravděpodobností, takže mutace vznikají jen někdy.\n"
   ]
  },
  {
   "cell_type": "markdown",
   "metadata": {},
   "source": [
    "# Třída SolutionGenerator\n",
    "\n",
    "Jedná se o pomocnou třídů pro inicializaci populace GA. \n",
    "\n",
    "Ze zadaného vzorku Sudoku vytvoří jedno řešení, které následně mutuje, a tím dodává další řešení pro naplnění populace. \n"
   ]
  },
  {
   "cell_type": "code",
   "execution_count": 16,
   "metadata": {},
   "outputs": [],
   "source": [
    "class SolutionGenerator:\n",
    "\n",
    "    def __init__(self, sample):\n",
    "        a = np.array([int(i) for i in sample]).reshape(WIDTH, WIDTH)\n",
    "        m = np.logical_not(np.array(a, dtype=bool))\n",
    "\n",
    "        all_nums = set(range(1, WIDTH+1))\n",
    "        for gi in range(WIDTH):\n",
    "            g = grid(a, gi)\n",
    "            missing = all_nums - set(g.flatten())\n",
    "            places = np.where(g == 0)\n",
    "            for i, v in enumerate(missing):\n",
    "                g[places[0][i], places[1][i]] = v\n",
    "        self._init = Solution(a, m)\n",
    "\n",
    "    def __iter__(self):\n",
    "        return self\n",
    "\n",
    "    def __next__(self):\n",
    "        self._init = self._init.clone().mutate(0.5)\n",
    "        return self._init\n"
   ]
  },
  {
   "cell_type": "markdown",
   "metadata": {},
   "source": [
    "# Třída GA\n",
    "\n",
    "No a tady se již dostávám k jádru řešení, tedy k implementaci vlastního genetického algoritmu.\n",
    "\n",
    "Nejdříve zdrojová třída, a pak nějaké komentáře k řešení:"
   ]
  },
  {
   "cell_type": "code",
   "execution_count": 17,
   "metadata": {},
   "outputs": [],
   "source": [
    "class GA:\n",
    "    PARENTS = 2\n",
    "\n",
    "    def __init__(self, population_size, solution_generator):\n",
    "        self.population_size = population_size\n",
    "        self.population = []\n",
    "        while len(self.population) < population_size:\n",
    "            solution = next(solution_generator)\n",
    "            self.population.append((solution.fitness(), solution))\n",
    "\n",
    "    def termination_criteria(self):\n",
    "        return [s for f, s in self.population if f == 0]\n",
    "\n",
    "    def select_parents(self):\n",
    "        res = []\n",
    "        coefficient = sum([1/f for f, s in self.population])\n",
    "        while len(res) < self.PARENTS:\n",
    "            threshold = random.random()\n",
    "            fitness = 0.0\n",
    "            for f, s in self.population:\n",
    "                fitness += 1 / f / coefficient\n",
    "                if fitness >= threshold and s not in res:\n",
    "                    res.append(s)\n",
    "                    break\n",
    "        return res\n",
    "\n",
    "    @staticmethod\n",
    "    def crossover(parents):\n",
    "\n",
    "        def swap_grid(g1, g2):\n",
    "            for r in range(g1.shape[0]):\n",
    "                for c in range(g1.shape[1]):\n",
    "                    g1[r, c], g2[r, c] = g2[r, c], g1[r, c]\n",
    "\n",
    "        child_1 = parents[0].clone()\n",
    "        child_2 = parents[1].clone()\n",
    "        for i in range(0, WIDTH, 2):\n",
    "            swap_grid(grid(child_1.data(), i), grid(child_2.data(), i))\n",
    "        return [child_1, child_2]\n",
    "\n",
    "    def reduce_population(self):\n",
    "        while len(self.population) > self.population_size:\n",
    "            max_fitness = max([f for f, s in self.population])\n",
    "            remove_index = [i for i, p in enumerate(self.population) if p[0] == max_fitness][0]\n",
    "            self.population.pop(remove_index)\n",
    "\n",
    "    def run(self, max_iterations):\n",
    "        for iteration in range(max_iterations):\n",
    "            solutions = self.termination_criteria()\n",
    "            if solutions:\n",
    "                return solutions\n",
    "            for child in GA.crossover(self.select_parents()):\n",
    "                child.mutate()\n",
    "                self.population.append((child.fitness(), child))\n",
    "            self.reduce_population()\n",
    "        else:\n",
    "            return []\n"
   ]
  },
  {
   "cell_type": "markdown",
   "metadata": {},
   "source": [
    "Do konstruktoru předám požadovanou velikost populace a generátor, kterým je možné si populaci naplnit.\n",
    "\n",
    "Vlastní populace je reprezentována jako pole dvojic: __<fitness, solution>__\n",
    "\n",
    "## metoda termination_criteria\n",
    "Metoda vyhodnotí, jestli některé řešení z populace nevyhovuje konečnému řešení. Hledám tedy ta řešení, která mají fitness == 0. Pokud se nějaká taková najdou, pak se vráci jako seznam těchto řešení.\n",
    "\n",
    "## metoda select_parent\n",
    "Ta mně má najít rodiče, které budu vzájemně křížit. V tomto řešení hledám 2 rodiče. Jako metodu jsem použil \"Roulette Wheel Selection\" s pravděpodobností výběru řešení odpovídající jejímu fitness. Výsledkem volání je seznam vybraných rodičů.\n",
    "\n",
    "## metoda crossover\n",
    "Toto je implementace křížení dvou rodičů. \n",
    "\n",
    "Parametrem, jsou vybraní rodiče. Vytvořím dva potomky, u nichž jsou křížově prohozeny jejich podčtverce. Výsledkem metody jsou dva noví potomci.\n",
    "\n",
    "## metoda reduce_population\n",
    "Po křížení mně přibudou v populaci dvě nová řešení. Aby se mně populace nerozrůstala, provedu její redukci a vyhodím nejhorší řešení dle jejich fitness.\n",
    "\n",
    "## metoda run\n",
    "Toto je výkonné tělo GA. \n",
    "\n",
    "Jako parametr dostane maximální počet iterací, které jsem ochoten provést. Pokud se v rámci těchto iterací nepodaří najít řešení, běh GA končí s tím, že řešení nenašel.\n",
    "\n",
    "Postup lze shrnout takto:\n",
    "1. Vlastní běh provádím v iteracích, jejich maximální možný počet byl zadán parametrem\n",
    "2. V rámci jedné itarace pak:\n",
    "    * zjistím, zda náhodou nějaké řešení nesplňuje kritéria pro ukončení; pokud ano, pak mám řešení a končím\n",
    "    * vyberu dva rodiče pro křížení\n",
    "    * provedu křížení\n",
    "    * pro každého nově vzniklého potomka pro vedu jeho mutaci a následně zařazení do populace\n",
    "    * provedu redukci populace\n",
    "    \n",
    "A to je vše. Takto to vypadá, pokud to celé spustím:"
   ]
  },
  {
   "cell_type": "code",
   "execution_count": 18,
   "metadata": {},
   "outputs": [
    {
     "name": "stdout",
     "output_type": "stream",
     "text": [
      "[[1 2 3 8 7 4 5 6 9]\n",
      " [5 6 7 9 3 2 1 8 4]\n",
      " [8 4 9 6 5 1 2 3 7]\n",
      " [9 1 6 2 8 7 4 5 3]\n",
      " [3 5 8 1 4 6 9 7 2]\n",
      " [4 7 2 3 9 5 8 1 6]\n",
      " [2 9 5 7 6 8 3 4 1]\n",
      " [6 8 1 4 2 3 7 9 5]\n",
      " [7 3 4 5 1 9 6 2 8]]\n"
     ]
    }
   ],
   "source": [
    "sols = GA(POPULATION_SIZE, SolutionGenerator(SAMPLE)).run(MAX_ITERATION)\n",
    "if sols:\n",
    "    for s in sols:\n",
    "        print(s.data())\n",
    "else:\n",
    "    print(\"NO SOLUTION FOUND\")"
   ]
  },
  {
   "cell_type": "markdown",
   "metadata": {},
   "source": [
    "A to je vše."
   ]
  }
 ],
 "metadata": {
  "kernelspec": {
   "display_name": "Python 3",
   "language": "python",
   "name": "python3"
  },
  "language_info": {
   "codemirror_mode": {
    "name": "ipython",
    "version": 3
   },
   "file_extension": ".py",
   "mimetype": "text/x-python",
   "name": "python",
   "nbconvert_exporter": "python",
   "pygments_lexer": "ipython3",
   "version": "3.9.0"
  }
 },
 "nbformat": 4,
 "nbformat_minor": 4
}
