{
 "cells": [
  {
   "cell_type": "markdown",
   "id": "abd84a8e",
   "metadata": {},
   "source": [
    "Po delší době jsem se opět dostal k řešení hry, a vybral jsem si japonskou logickou hru [Futoshiki](https://en.wikipedia.org/wiki/Futoshiki). \n",
    "Jedná se o relativně mladou hru vymyšlenou na začátku tohoto století s jednoduchými pravidly.\n",
    "\n",
    "Hraje se na čtvercové desce obvykle s rozměry 5x5 nebo 7x7 políček. \n",
    "\n",
    "Pravidla by se dala shrnou asi následovně:\n",
    "1. Na políčka se umísťují čísla v rozmězí od 1 do N (N je velikost čtverce)\n",
    "2. V každém řádku a sloupci může být každé číslo pouze jednou (čísla se tedy nesmí opakovat)\n",
    "3. Navíc je mezi některými sousedními políčky (v řádku nebo soupci) definována nerovnost. Vyplněná políčka pak musí splňovat tuto nerovnost\n",
    "4. Při úvodním zadání jsou některá políčka dopředu specifikována. Ty políčka, které je potřeba doplnit, mají hodnotu 0.\n",
    "\n",
    "Například takto by mohlo vypadat zadání takové hry:\n",
    "\n",
    "```\n",
    "0>3 5 1 0\n",
    "\n",
    "0 2 0 5 0\n",
    "        ^\n",
    "0 0 0 0 0\n",
    "\n",
    "0 5 0 3 0\n",
    "\n",
    "0 4 3 2<0\n",
    "```\n",
    "\n",
    "Pokusil jsem se postupně vyzkoušet několik postupů, jak bych mohl takovou hru řešit. Zkusil jsem to nejdříve klasickým přístupen, dále pak pomocí Constraint Programming a nakonec s využitím genetických algoritmů. O výsledky mých pokusů bych se s vámi rád podělil."
   ]
  },
  {
   "cell_type": "markdown",
   "id": "54425490",
   "metadata": {},
   "source": [
    "# Zdroj testovacích dat\n",
    "\n",
    "Protože budu zkoušet několik postupů, vytvořil jsem si nejdříve jeden společný zdroj testovacích dat.\n",
    "Je to jedna třída `SampleSource` v samostatném modulu. Ta obsahuje několik zadání hry v textové podobě a metody, jak s nimi jednoduše pracovat.\n",
    "\n",
    "Jednodušší bude asi ukázka, jak s tím zdrojem testovacích vzorků pracuji:"
   ]
  },
  {
   "cell_type": "code",
   "execution_count": 1,
   "id": "77cd21d2",
   "metadata": {},
   "outputs": [],
   "source": [
    "from Futoshiki_DataSource import SampleSource\n",
    "\n",
    "samples = SampleSource()"
   ]
  },
  {
   "cell_type": "markdown",
   "id": "a1e9825a",
   "metadata": {},
   "source": [
    "Celkový počet vzorků, které mám k dispozici:"
   ]
  },
  {
   "cell_type": "code",
   "execution_count": 2,
   "id": "844cbec6",
   "metadata": {},
   "outputs": [
    {
     "name": "stdout",
     "output_type": "stream",
     "text": [
      "12\n"
     ]
    }
   ],
   "source": [
    "print(len(samples))"
   ]
  },
  {
   "cell_type": "markdown",
   "id": "e1a37e0d",
   "metadata": {},
   "source": [
    "Takto si mohu zobrazit jeden konkrétní vzorek ve zdrojové podobě:"
   ]
  },
  {
   "cell_type": "code",
   "execution_count": 3,
   "id": "93437faa",
   "metadata": {},
   "outputs": [
    {
     "name": "stdout",
     "output_type": "stream",
     "text": [
      "0 0<3<0\n",
      "\n",
      "0 0 0 0\n",
      "^\n",
      "0>0 0 0\n",
      "^\n",
      "0 0 0<0\n"
     ]
    }
   ],
   "source": [
    "print(*samples.data(3), sep='\\n')"
   ]
  },
  {
   "cell_type": "markdown",
   "id": "2dfc737c",
   "metadata": {},
   "source": [
    "A takto si mohu zjistit velikost hrací desky pro vybraný vzorrek:"
   ]
  },
  {
   "cell_type": "code",
   "execution_count": 4,
   "id": "fb15b4e8",
   "metadata": {},
   "outputs": [
    {
     "name": "stdout",
     "output_type": "stream",
     "text": [
      "4\n"
     ]
    }
   ],
   "source": [
    "print(samples.size(3))"
   ]
  },
  {
   "cell_type": "markdown",
   "id": "f0512a79",
   "metadata": {},
   "source": [
    "Dále mám ještě připravené dvě metody pro detailnější práci se zadáním.\n",
    "\n",
    "První z nich je metoda pro předání hodnot políček:"
   ]
  },
  {
   "cell_type": "code",
   "execution_count": 5,
   "id": "dd62eb02",
   "metadata": {},
   "outputs": [
    {
     "name": "stdout",
     "output_type": "stream",
     "text": [
      "[0, 0, 3, 0]\n",
      "[0, 0, 0, 0]\n",
      "[0, 0, 0, 0]\n",
      "[0, 0, 0, 0]\n"
     ]
    }
   ],
   "source": [
    "print(*samples.grid(3), sep='\\n')"
   ]
  },
  {
   "cell_type": "markdown",
   "id": "84a5edff",
   "metadata": {},
   "source": [
    "Dostanu seznam řádků s hodnotami jednotlivých políček.\n",
    "\n",
    "Druhou metodou je pak seznam všech omezení definovaných v zadání:"
   ]
  },
  {
   "cell_type": "code",
   "execution_count": 6,
   "id": "2076b923",
   "metadata": {},
   "outputs": [
    {
     "name": "stdout",
     "output_type": "stream",
     "text": [
      "((0, 1), (0, 2))\n",
      "((0, 2), (0, 3))\n",
      "((1, 0), (2, 0))\n",
      "((2, 1), (2, 0))\n",
      "((2, 0), (3, 0))\n",
      "((3, 2), (3, 3))\n"
     ]
    }
   ],
   "source": [
    "print(*samples.constraints(3), sep='\\n')"
   ]
  },
  {
   "cell_type": "markdown",
   "id": "324ff6e8",
   "metadata": {},
   "source": [
    "Dostanu seznam dvojic souřadnic políček, mezi kterými je definována relace menší. Můžete si zkontrolovat se zdrojovou podobou zadání. "
   ]
  },
  {
   "cell_type": "markdown",
   "id": "c5de23a1",
   "metadata": {},
   "source": [
    "# Klasický přístup pomoci backtracking\n",
    "\n",
    "Asi každého napadne prvním možný způsob řešení, že prostě budu postupně zkoušet všechny možnosti hodnot políček, až mně něco vyjde.\n",
    "Tak to bylo i u mne, a toto je můj nesmělý pokus:"
   ]
  },
  {
   "cell_type": "code",
   "execution_count": 7,
   "id": "3f15945f",
   "metadata": {},
   "outputs": [],
   "source": [
    "import numpy as np\n",
    "\n",
    "class GameBoard:\n",
    "\n",
    "    def __init__(self, grid, constraints):\n",
    "        self.size = len(grid)\n",
    "        self.grid = np.array(grid)\n",
    "        self.constraints = constraints\n",
    "\n",
    "    def allowable_values(self, row, col):\n",
    "        if self.grid[row, col]:\n",
    "            return {self.grid[row, col]}\n",
    "        else:\n",
    "            res = set(range(1, self.size + 1))\n",
    "            res -= set(self.grid[row])\n",
    "            res -= set(self.grid[:, col])\n",
    "            min_const = {self.grid[high] for low, high in self.constraints if low == (row, col) and self.grid[high]}\n",
    "            if min_const:\n",
    "                res = {v for v in res if v < min(min_const)}\n",
    "            max_const = {self.grid[low] for low, high in self.constraints if high == (row, col) and self.grid[low]}\n",
    "            if max_const:\n",
    "                res = {v for v in res if v > max(max_const)}\n",
    "            return res\n",
    "\n",
    "    def is_complete(self):\n",
    "        return all((bool(v) for v in self.grid.ravel()))\n",
    "\n",
    "    def is_valid(self):\n",
    "        if not self.is_complete():\n",
    "            return False\n",
    "        for row in range(self.size):\n",
    "            if len(set(self.grid[row])) != self.size:\n",
    "                return False\n",
    "        for col in range(self.size):\n",
    "            if len(set(self.grid[:, col])) != self.size:\n",
    "                return False\n",
    "        for low, high in self.constraints:\n",
    "            if not self.grid[low] < self.grid[high]:\n",
    "                return False\n",
    "        return True\n",
    "\n",
    "    def solve(self, from_index=0):\n",
    "        if from_index < self.grid.size:\n",
    "            row, col = from_index // self.size, from_index % self.size\n",
    "            if self.grid[row, col]:\n",
    "                return self.solve(from_index + 1)\n",
    "            else:\n",
    "                for val in self.allowable_values(row, col):\n",
    "                    self.grid[row, col] = val\n",
    "                    if self.solve(from_index + 1):\n",
    "                        return True\n",
    "                self.grid[row, col] = 0\n",
    "                return False\n",
    "        else:\n",
    "            return True"
   ]
  },
  {
   "cell_type": "markdown",
   "id": "f9269c3d",
   "metadata": {},
   "source": [
    "Vytvořil jsem si třídu `GameBoard`, do které při vytvoření instance zadám hodnoty políček jako dvourozměrný seznam, a seznam omezení pro vybraná políčka (to jsou ty dvě posledním metody ze zdroje testovacích dat).\n",
    "\n",
    "Aby se mně s čtvercovou maticí hodnot lépe pracovalo, udělal jsem si z něj pole v `numpy`.\n",
    "\n",
    "Dále jsou ve třídě tyto metody:\n",
    "\n",
    "\n",
    "<dl>\n",
    "<dt>is_complete</dt>\n",
    "<dd>\n",
    "    Metoda kontroluje, zda již není řešení kompletní. To se pozná tak, že všechna políčka obsahují nějakou kladnou hodnotu.\n",
    "</dd>\n",
    "<dt>is_valid</dt>\n",
    "<dd>\n",
    "    Metoda ověří, že je řešení kompletní a zároveň splňuje všechna požadovaná omezení.\n",
    "</dd>\n",
    "<dd>\n",
    "    Ověřuje se unikátnost hodnot v řádcích a sloupcích.\n",
    "    A dále se ověřuje splnění všech požadovaných relací mezi políčky.\n",
    "</dd>\n",
    "<dt>allowable_values</dt>\n",
    "<dd>\n",
    "    Metoda pro zadané souřadnice políčka zjistí množinu hodnot, které se mohou na políčku vyskytovat.\n",
    "</dd>\n",
    "<dd>\n",
    "    Pokud je již políčko vyplněno (to je v případě, že hodnota políčka byla specifikována v zadání hry), pak je vrácena množina obsahující pouze tuto hodnotu.\n",
    "</dd>\n",
    "<dd>\n",
    "    Jinak začínám s množinou všech hodnot, které jsou povoleny podle rozměru hrací plochy.\n",
    "</dd>\n",
    "<dd>\n",
    "    Od této množiny odečítám množiny již známých hodnot v řádku a sloupci.\n",
    "</dd>\n",
    "<dd>\n",
    "    Dále projdu množinu všech omezení, ve kterých hledané políčko figuruje na první pozici (musí být menší).\n",
    "    Pokud taková množina existuje, pak do výsledného řešení projdou pouze ty hodnoty, které jsou menší než minimum větších políček.\n",
    "    Prostě musí být zachována všechna omezení pro dané políčko.\n",
    "</dd>\n",
    "<dd>\n",
    "    Obdobně i pro omezení, kde hledané políčko figuruje na druhé pozici (musí být větší).\n",
    "    Do výsledku projdou pouze hodnoty, které jsou větší než maximum menších políček.\n",
    "</dd>\n",
    "<dt>solve</dt>\n",
    "<dd>\n",
    "    Hlavní výkonná metoda pro řešení. Spouští se rekurzivně a prochází všechna políčka po řádcích. Parametr from_index udává sekvenční pořadí políčka.\n",
    "</dd>\n",
    "<dd>\n",
    "    Pokud je políčko vyplněno, pokračuje se v hledání políčka následujícího.\n",
    "</dd>\n",
    "    Jinak se zjistí všechny povolené hodnoty pro políčko. Postupně je přiřazuji a pokouším se zjistit, zda nedojdu do úspěšného řešení.\n",
    "<dd>\n",
    "</dd>\n",
    "    V případě, že žádná z povolených hodnot nevede k úspěšnému řešení, přiřazuji políčku prázdnou hodnotu a vracím se zpět.\n",
    "<dd>"
   ]
  },
  {
   "cell_type": "markdown",
   "id": "0bd170ef",
   "metadata": {},
   "source": [
    "A takto by to mohlo vypadat, pokud provedu řešení jednoho zadání (v tomto případě pro číslo 3):"
   ]
  },
  {
   "cell_type": "code",
   "execution_count": 8,
   "id": "3bb06ea7",
   "metadata": {},
   "outputs": [
    {
     "name": "stdout",
     "output_type": "stream",
     "text": [
      "[[2 1 3 4]\n",
      " [1 4 2 3]\n",
      " [3 2 4 1]\n",
      " [4 3 1 2]]\n"
     ]
    }
   ],
   "source": [
    "board = GameBoard(samples.grid(3), samples.constraints(3))\n",
    "\n",
    "if board.solve():\n",
    "    if board.is_valid():\n",
    "        print(board.grid)\n",
    "    else:\n",
    "        print(\"SOLUTION IS NOT VALID\")\n",
    "else:\n",
    "    print(\"FAILED\")\n"
   ]
  },
  {
   "cell_type": "markdown",
   "id": "7aafe067",
   "metadata": {},
   "source": [
    "Testováním jsem zjistil, že tento způsob mně dává výsledky v rozumém času, pokud je velikost zadaného vzorku maximálně 7x7. Pro větší vzorky již tohle řešení trvá neúměrně dlouho.\n",
    "\n",
    "Následuje ukázka řešení pro všechny vzorky z testovacích dat s velikostí do 7x7:"
   ]
  },
  {
   "cell_type": "code",
   "execution_count": 9,
   "id": "80ab359f",
   "metadata": {},
   "outputs": [
    {
     "name": "stdout",
     "output_type": "stream",
     "text": [
      "1 0\n",
      "\n",
      "0 0\n",
      "********************\n",
      "[[1 2]\n",
      " [2 1]]\n",
      "\n",
      "\n",
      "====================\n",
      "\n",
      "\n",
      "1<0\n",
      "^ v\n",
      "0>0\n",
      "********************\n",
      "[[1 2]\n",
      " [2 1]]\n",
      "\n",
      "\n",
      "====================\n",
      "\n",
      "\n",
      "0>0\n",
      "v ^\n",
      "0<0\n",
      "********************\n",
      "[[2 1]\n",
      " [1 2]]\n",
      "\n",
      "\n",
      "====================\n",
      "\n",
      "\n",
      "0 0<3<0\n",
      "\n",
      "0 0 0 0\n",
      "^\n",
      "0>0 0 0\n",
      "^\n",
      "0 0 0<0\n",
      "********************\n",
      "[[2 1 3 4]\n",
      " [1 4 2 3]\n",
      " [3 2 4 1]\n",
      " [4 3 1 2]]\n",
      "\n",
      "\n",
      "====================\n",
      "\n",
      "\n",
      "0>3 5 1 0\n",
      "\n",
      "0 2 0 5 0\n",
      "        ^\n",
      "0 0 0 0 0\n",
      "\n",
      "0 5 0 3 0\n",
      "\n",
      "0 4 3 2<0\n",
      "********************\n",
      "[[4 3 5 1 2]\n",
      " [3 2 4 5 1]\n",
      " [5 1 2 4 3]\n",
      " [2 5 1 3 4]\n",
      " [1 4 3 2 5]]\n",
      "\n",
      "\n",
      "====================\n",
      "\n",
      "\n",
      "0>0 5 0 0\n",
      "\n",
      "0 2 0 0 0\n",
      "        ^\n",
      "0 0 0 0 0\n",
      "\n",
      "0 0 0 3 0\n",
      "\n",
      "0 0 0 2<0\n",
      "********************\n",
      "[[2 1 5 4 3]\n",
      " [3 2 4 5 1]\n",
      " [4 3 2 1 5]\n",
      " [5 4 1 3 2]\n",
      " [1 5 3 2 4]]\n",
      "\n",
      "\n",
      "====================\n",
      "\n",
      "\n",
      "0 0<0 0<0\n",
      "    ^\n",
      "0 0>0 0 0\n",
      "\n",
      "0 0 0 0 0\n",
      "\n",
      "0<0 0 0 0\n",
      "v ^\n",
      "0 0 0<0<0\n",
      "********************\n",
      "[[5 1 3 2 4]\n",
      " [3 5 4 1 2]\n",
      " [4 2 1 5 3]\n",
      " [2 3 5 4 1]\n",
      " [1 4 2 3 5]]\n",
      "\n",
      "\n",
      "====================\n",
      "\n",
      "\n",
      "0 3 0>0 0 5 0\n",
      "        v   ^\n",
      "0 0 0 0 0 0 0\n",
      "  ^\n",
      "4 5 0>0 0 2 7\n",
      "      v\n",
      "0 0 0 0 0 0 0\n",
      "    v       v\n",
      "2 6 0 0 0 1 3\n",
      "            ^\n",
      "0 0 0 0 0 0 0\n",
      "\n",
      "0 2 0 0<0 3<0\n",
      "********************\n",
      "[[7 3 4 2 6 5 1]\n",
      " [6 1 3 4 5 7 2]\n",
      " [4 5 6 3 1 2 7]\n",
      " [3 4 7 1 2 6 5]\n",
      " [2 6 5 7 4 1 3]\n",
      " [1 7 2 5 3 4 6]\n",
      " [5 2 1 6 7 3 4]]\n",
      "\n",
      "\n",
      "====================\n",
      "\n",
      "\n",
      "0 0 0 0 0 0 0\n",
      "^ ^     ^\n",
      "0 0 0 0 4<0 0\n",
      "          ^\n",
      "0 0 0 0 5 0 0\n",
      "            ^\n",
      "0 0 0 0 0 0 0\n",
      "\n",
      "1 0 0 3>0 0<0\n",
      "    v\n",
      "6>0 0 0 0>0>0\n",
      "        ^\n",
      "0<3>0 0 0 0 7\n",
      "********************\n",
      "[[4 2 7 5 1 3 6]\n",
      " [7 5 2 1 4 6 3]\n",
      " [3 1 4 6 5 7 2]\n",
      " [5 6 3 2 7 1 4]\n",
      " [1 7 6 3 2 4 5]\n",
      " [6 4 5 7 3 2 1]\n",
      " [2 3 1 4 6 5 7]]\n",
      "\n",
      "\n",
      "====================\n",
      "\n",
      "\n",
      "FINISHED\n"
     ]
    }
   ],
   "source": [
    "def execute(sample):\n",
    "    print(*samples.data(sample), sep='\\n')\n",
    "    print('*' * 20)\n",
    "    board = GameBoard(samples.grid(sample), samples.constraints(sample))\n",
    "    if board.solve():\n",
    "        if board.is_valid():\n",
    "            print(board.grid)\n",
    "        else:\n",
    "            print(\"SOLUTION IS NOT VALID\")\n",
    "    else:\n",
    "        print(\"FAILED\")\n",
    "        \n",
    "for i in range(len(samples)):\n",
    "    if samples.size(i) <= 7:\n",
    "        execute(i)\n",
    "        print(\"\\n\")\n",
    "        print(\"=\" * 20)\n",
    "        print(\"\\n\")\n",
    "print(\"FINISHED\")"
   ]
  },
  {
   "cell_type": "markdown",
   "id": "8d72c218",
   "metadata": {},
   "source": [
    "A to je dnes vše. Příště se zkusím s hrou Futoshiki popasovat s využitím knihovny pro Constraint Programming."
   ]
  }
 ],
 "metadata": {
  "kernelspec": {
   "display_name": "Python 3 (ipykernel)",
   "language": "python",
   "name": "python3"
  },
  "language_info": {
   "codemirror_mode": {
    "name": "ipython",
    "version": 3
   },
   "file_extension": ".py",
   "mimetype": "text/x-python",
   "name": "python",
   "nbconvert_exporter": "python",
   "pygments_lexer": "ipython3",
   "version": "3.9.7"
  }
 },
 "nbformat": 4,
 "nbformat_minor": 5
}
